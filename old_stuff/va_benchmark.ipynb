{
 "metadata": {
  "name": "",
  "signature": "sha256:1d2f6adc33475b244894303b3be497c471492ed5459e67ebbcd3d546c60211cc"
 },
 "nbformat": 3,
 "nbformat_minor": 0,
 "worksheets": [
  {
   "cells": [
    {
     "cell_type": "code",
     "collapsed": false,
     "input": [
      "import socket\n",
      "\n",
      "simulator_name = 'spiNNaker'\n",
      "benchmark = 'COBA'\n",
      "\n",
      "\n",
      "#exec(\"from pyNN.%s import *\" % simulator_name)\n",
      "from spynnaker.pyNN import *\n",
      "from pyNN.random import NumpyRNG, RandomDistribution\n",
      "from pyNN.utility import Timer\n"
     ],
     "language": "python",
     "metadata": {},
     "outputs": [],
     "prompt_number": 1
    },
    {
     "cell_type": "code",
     "collapsed": false,
     "input": [
      "\n",
      "timer = Timer()\n",
      "\n",
      "# === Define parameters ===\n",
      "threads = 1\n",
      "rngseed = 98766987\n",
      "parallel_safe = True\n",
      "\n",
      "n = 1500          # number of cells\n",
      "r_ei = 4.0        # number of excitatory cells:number of inhibitory cells\n",
      "pconn = 0.02      # connection probability\n",
      "stim_dur = 50.    # (ms) duration of random stimulation\n",
      "rate = 100.       # (Hz) frequency of the random stimulation\n",
      "\n",
      "dt = 1.0          # (ms) simulation timestep\n",
      "tstop = 1000      # (ms) simulaton duration\n",
      "delay = 2\n",
      "\n",
      "# Cell parameters\n",
      "area = 20000.     # (\u00b5m\u00b2)\n",
      "tau_m = 20.       # (ms)\n",
      "cm = 1.           # (\u00b5F/cm\u00b2)\n",
      "g_leak = 5e-5     # (S/cm\u00b2)\n",
      "if benchmark == \"COBA\":\n",
      "    E_leak = -60.  # (mV)\n",
      "elif benchmark == \"CUBA\":\n",
      "    E_leak = -49.  # (mV)\n",
      "v_thresh = -50.   # (mV)\n",
      "v_reset = -60.    # (mV)\n",
      "t_refrac = 5.     # (ms) (clamped at v_reset)\n",
      "v_mean = -60.     # (mV) mean membrane potential, for calculating CUBA weights\n",
      "tau_exc = 5.      # (ms)\n",
      "tau_inh = 10.     # (ms)\n",
      "\n",
      "# Synapse parameters\n",
      "if benchmark == \"COBA\":\n",
      "    Gexc = 4.     # (nS)\n",
      "    Ginh = 51.    # (nS)\n",
      "elif benchmark == \"CUBA\":\n",
      "    Gexc = 0.27   # (nS) # Those weights should be similar to the COBA weights\n",
      "    Ginh = 4.5    # (nS) # but with depolarising drift\n",
      "Erev_exc = 0.     # (mV)\n",
      "Erev_inh = -80.   # (mV)\n",
      "\n",
      "# === Calculate derived parameters ===\n",
      "area = area * 1e-8                     # convert to cm\u00b2\n",
      "cm = cm * area * 1000                  # convert to nF\n",
      "Rm = 1e-6 / (g_leak * area)            # membrane resistance in M\u03a9\n",
      "assert tau_m == cm * Rm                # just to check\n",
      "\n",
      "n_exc = int(round((n * r_ei / (1 + r_ei))))  # number of excitatory cells\n",
      "n_inh = n - n_exc                            # number of inhibitory cells\n",
      "\n",
      "print n_exc, n_inh\n"
     ],
     "language": "python",
     "metadata": {},
     "outputs": [
      {
       "output_type": "stream",
       "stream": "stdout",
       "text": [
        "1200 300\n"
       ]
      }
     ],
     "prompt_number": 2
    },
    {
     "cell_type": "code",
     "collapsed": false,
     "input": [
      "\n",
      "if benchmark == \"COBA\":\n",
      "    celltype = IF_cond_exp\n",
      "    w_exc = Gexc * 1e-3              # We convert conductances to uS\n",
      "    w_inh = Ginh * 1e-3\n",
      "    print w_exc, w_inh\n",
      "elif benchmark == \"CUBA\":\n",
      "    celltype = IF_curr_exp\n",
      "    w_exc = 1e-3 * Gexc * (Erev_exc - v_mean)  # (nA) weight of exc synapses\n",
      "    w_inh = 1e-3 * Ginh * (Erev_inh - v_mean)  # (nA)\n",
      "    assert w_exc > 0\n",
      "    assert w_inh < 0"
     ],
     "language": "python",
     "metadata": {},
     "outputs": [
      {
       "output_type": "stream",
       "stream": "stdout",
       "text": [
        "0.004 0.051\n"
       ]
      }
     ],
     "prompt_number": 3
    },
    {
     "cell_type": "code",
     "collapsed": false,
     "input": [
      "\n",
      "# === Build the network ===\n",
      "\n",
      "extra = {'threads': threads,\n",
      "         'filename': \"va_%s.xml\" % benchmark,\n",
      "         'label': 'VA'}\n",
      "if simulator_name == \"neuroml\":\n",
      "    extra[\"file\"] = \"VAbenchmarks.xml\"\n",
      "\n",
      "node_id = setup(timestep=dt, min_delay=delay, max_delay=delay, db_name='va_benchmark.sqlite', **extra)\n",
      "\n",
      "if simulator_name == 'spiNNaker':\n",
      "    set_number_of_neurons_per_core('IF_curr_exp', 100)      # this will set 100 neurons per core\n",
      "    set_number_of_neurons_per_core('IF_cond_exp', 50)      # this will set 50 neurons per core\n",
      "\n",
      "node_id = 1\n",
      "np = 1\n",
      "\n",
      "host_name = socket.gethostname()\n",
      "print \"Host #%d is on %s\" % (np, host_name)\n",
      "\n",
      "print \"%s Initialising the simulator with %d thread(s)...\" % (\n",
      "    node_id, extra['threads'])\n",
      "\n",
      "cell_params = {'tau_m': tau_m,\n",
      "               'tau_syn_E': tau_exc,\n",
      "               'tau_syn_I': tau_inh,\n",
      "               'v_rest': E_leak,\n",
      "               'v_reset': v_reset,\n",
      "               'v_thresh': v_thresh,\n",
      "               'cm': cm,\n",
      "               'tau_refrac': t_refrac,\n",
      "               'i_offset': 0\n",
      "               }\n",
      "\n",
      "print cell_params\n",
      "\n",
      "if (benchmark == \"COBA\"):\n",
      "    cell_params['e_rev_E'] = Erev_exc\n",
      "    cell_params['e_rev_I'] = Erev_inh\n",
      "\n",
      "timer.start()\n",
      "\n",
      "print \"%s Creating cell populations...\" % node_id\n",
      "exc_cells = Population(n_exc, celltype, cell_params, label=\"Excitatory_Cells\")\n",
      "inh_cells = Population(n_inh, celltype, cell_params, label=\"Inhibitory_Cells\")\n",
      "if benchmark == \"COBA\":\n",
      "    ext_stim = Population(\n",
      "            20, SpikeSourcePoisson,\n",
      "            {'rate': rate, 'duration': stim_dur},\n",
      "            label=\"expoisson\")\n",
      "    rconn = 0.01\n",
      "    ext_conn = FixedProbabilityConnector(rconn, weights=0.1)\n",
      "    ext_stim.record()\n",
      "\n",
      "print \"%s Initialising membrane potential to random values...\" % node_id\n",
      "rng = NumpyRNG(seed=rngseed, parallel_safe=parallel_safe)\n",
      "uniformDistr = RandomDistribution('uniform', [v_reset, v_thresh], rng=rng)\n",
      "exc_cells.initialize('v', uniformDistr)\n",
      "inh_cells.initialize('v', uniformDistr)\n",
      "\n",
      "print \"%s Connecting populations...\" % node_id\n",
      "exc_conn = FixedProbabilityConnector(pconn, weights=w_exc, delays=delay)\n",
      "inh_conn = FixedProbabilityConnector(pconn, weights=w_inh, delays=delay)\n",
      "\n",
      "connections = {}\n",
      "connections['e2e'] = Projection(exc_cells, exc_cells, exc_conn,\n",
      "                                target='excitatory', rng=rng)\n",
      "connections['e2i'] = Projection(exc_cells, inh_cells, exc_conn,\n",
      "                                target='excitatory', rng=rng)\n",
      "connections['i2e'] = Projection(inh_cells, exc_cells, inh_conn,\n",
      "                                target='inhibitory', rng=rng)\n",
      "connections['i2i'] = Projection(inh_cells, inh_cells, inh_conn,\n",
      "                                target='inhibitory', rng=rng)\n",
      "\n",
      "if (benchmark == \"COBA\"):\n",
      "    connections['ext2e'] = Projection(ext_stim, exc_cells, ext_conn,\n",
      "                                      target='excitatory')\n",
      "    connections['ext2i'] = Projection(ext_stim, inh_cells, ext_conn,\n",
      "                                      target='excitatory')\n"
     ],
     "language": "python",
     "metadata": {},
     "outputs": [
      {
       "output_type": "stream",
       "stream": "stderr",
       "text": [
        "2016-11-02 12:46:50 WARNING: Extra params has been applied to the setup command which we do not consider\n"
       ]
      },
      {
       "output_type": "stream",
       "stream": "stdout",
       "text": [
        "Host #1 is on nicolas-acer\n",
        "1 Initialising the simulator with 1 thread(s)...\n",
        "{'tau_refrac': 5.0, 'v_thresh': -50.0, 'tau_m': 20.0, 'tau_syn_E': 5.0, 'v_rest': -60.0, 'cm': 0.2, 'i_offset': 0, 'tau_syn_I': 10.0, 'v_reset': -60.0}\n",
        "1 Creating cell populations...\n",
        "1 Initialising membrane potential to random values...\n",
        "1 Connecting populations...\n"
       ]
      }
     ],
     "prompt_number": 4
    },
    {
     "cell_type": "code",
     "collapsed": false,
     "input": [
      "\n",
      "# === Setup recording ===\n",
      "print \"%s Setting up recording...\" % node_id\n",
      "exc_cells.record()\n",
      "\n",
      "buildCPUTime = timer.diff()\n",
      "\n",
      "# === Run simulation ===\n",
      "print \"%d Running simulation...\" % node_id\n",
      "\n",
      "print \"timings: number of neurons:\", n\n",
      "print \"timings: number of synapses:\", n * n * pconn\n",
      "\n",
      "run(tstop)\n",
      "\n",
      "simCPUTime = timer.diff()"
     ],
     "language": "python",
     "metadata": {},
     "outputs": [
      {
       "output_type": "stream",
       "stream": "stderr",
       "text": [
        "Verifying Machine\n",
        "|0                           50%                         100%|\n",
        " "
       ]
      },
      {
       "output_type": "stream",
       "stream": "stderr",
       "text": [
        "======="
       ]
      },
      {
       "output_type": "stream",
       "stream": "stderr",
       "text": [
        "========"
       ]
      },
      {
       "output_type": "stream",
       "stream": "stderr",
       "text": [
        "======="
       ]
      },
      {
       "output_type": "stream",
       "stream": "stderr",
       "text": [
        "========"
       ]
      },
      {
       "output_type": "stream",
       "stream": "stderr",
       "text": [
        "======="
       ]
      },
      {
       "output_type": "stream",
       "stream": "stderr",
       "text": [
        "========"
       ]
      },
      {
       "output_type": "stream",
       "stream": "stderr",
       "text": [
        "======="
       ]
      },
      {
       "output_type": "stream",
       "stream": "stderr",
       "text": [
        "========"
       ]
      },
      {
       "output_type": "stream",
       "stream": "stderr",
       "text": [
        "\n",
        "Allocating virtual identifiers"
       ]
      },
      {
       "output_type": "stream",
       "stream": "stderr",
       "text": [
        "\n",
        "|0                           50%                         100%|\n",
        " "
       ]
      },
      {
       "output_type": "stream",
       "stream": "stderr",
       "text": [
        "========"
       ]
      },
      {
       "output_type": "stream",
       "stream": "stderr",
       "text": [
        "========="
       ]
      },
      {
       "output_type": "stream",
       "stream": "stderr",
       "text": [
        "========"
       ]
      },
      {
       "output_type": "stream",
       "stream": "stderr",
       "text": [
        "========="
       ]
      },
      {
       "output_type": "stream",
       "stream": "stderr",
       "text": [
        "========"
       ]
      },
      {
       "output_type": "stream",
       "stream": "stderr",
       "text": [
        "========="
       ]
      },
      {
       "output_type": "stream",
       "stream": "stderr",
       "text": [
        "========="
       ]
      },
      {
       "output_type": "stream",
       "stream": "stderr",
       "text": [
        "\n",
        "Partitioning graph vertices\n",
        "|0                           50%                         100%|\n",
        " "
       ]
      },
      {
       "output_type": "stream",
       "stream": "stderr",
       "text": [
        "==============================================="
       ]
      },
      {
       "output_type": "stream",
       "stream": "stderr",
       "text": [
        "============"
       ]
      },
      {
       "output_type": "stream",
       "stream": "stderr",
       "text": [
        "="
       ]
      },
      {
       "output_type": "stream",
       "stream": "stderr",
       "text": [
        "\n",
        "Partitioning graph edges\n",
        "|0                           50%                         100%|\n",
        " "
       ]
      },
      {
       "output_type": "stream",
       "stream": "stderr",
       "text": [
        "="
       ]
      },
      {
       "output_type": "stream",
       "stream": "stderr",
       "text": [
        "=="
       ]
      },
      {
       "output_type": "stream",
       "stream": "stderr",
       "text": [
        "=="
       ]
      },
      {
       "output_type": "stream",
       "stream": "stderr",
       "text": [
        "=="
       ]
      },
      {
       "output_type": "stream",
       "stream": "stderr",
       "text": [
        "=="
       ]
      },
      {
       "output_type": "stream",
       "stream": "stderr",
       "text": [
        "=="
       ]
      },
      {
       "output_type": "stream",
       "stream": "stderr",
       "text": [
        "=="
       ]
      },
      {
       "output_type": "stream",
       "stream": "stderr",
       "text": [
        "=="
       ]
      },
      {
       "output_type": "stream",
       "stream": "stderr",
       "text": [
        "=="
       ]
      },
      {
       "output_type": "stream",
       "stream": "stderr",
       "text": [
        "=="
       ]
      },
      {
       "output_type": "stream",
       "stream": "stderr",
       "text": [
        "=="
       ]
      },
      {
       "output_type": "stream",
       "stream": "stderr",
       "text": [
        "=="
       ]
      },
      {
       "output_type": "stream",
       "stream": "stderr",
       "text": [
        "=="
       ]
      },
      {
       "output_type": "stream",
       "stream": "stderr",
       "text": [
        "=="
       ]
      },
      {
       "output_type": "stream",
       "stream": "stderr",
       "text": [
        "=="
       ]
      },
      {
       "output_type": "stream",
       "stream": "stderr",
       "text": [
        "="
       ]
      },
      {
       "output_type": "stream",
       "stream": "stderr",
       "text": [
        "=="
       ]
      },
      {
       "output_type": "stream",
       "stream": "stderr",
       "text": [
        "=="
       ]
      },
      {
       "output_type": "stream",
       "stream": "stderr",
       "text": [
        "=="
       ]
      },
      {
       "output_type": "stream",
       "stream": "stderr",
       "text": [
        "=="
       ]
      },
      {
       "output_type": "stream",
       "stream": "stderr",
       "text": [
        "=="
       ]
      },
      {
       "output_type": "stream",
       "stream": "stderr",
       "text": [
        "=="
       ]
      },
      {
       "output_type": "stream",
       "stream": "stderr",
       "text": [
        "=="
       ]
      },
      {
       "output_type": "stream",
       "stream": "stderr",
       "text": [
        "=="
       ]
      },
      {
       "output_type": "stream",
       "stream": "stderr",
       "text": [
        "=="
       ]
      },
      {
       "output_type": "stream",
       "stream": "stderr",
       "text": [
        "=="
       ]
      },
      {
       "output_type": "stream",
       "stream": "stderr",
       "text": [
        "=="
       ]
      },
      {
       "output_type": "stream",
       "stream": "stderr",
       "text": [
        "=="
       ]
      },
      {
       "output_type": "stream",
       "stream": "stderr",
       "text": [
        "=="
       ]
      },
      {
       "output_type": "stream",
       "stream": "stderr",
       "text": [
        "=="
       ]
      },
      {
       "output_type": "stream",
       "stream": "stderr",
       "text": [
        "=="
       ]
      },
      {
       "output_type": "stream",
       "stream": "stderr",
       "text": [
        "\n",
        "Generating partitioner report\n",
        "|0                           50%                         100%|\n",
        " "
       ]
      },
      {
       "output_type": "stream",
       "stream": "stderr",
       "text": [
        "===================="
       ]
      },
      {
       "output_type": "stream",
       "stream": "stderr",
       "text": [
        "===================="
       ]
      },
      {
       "output_type": "stream",
       "stream": "stderr",
       "text": [
        "===================="
       ]
      },
      {
       "output_type": "stream",
       "stream": "stderr",
       "text": [
        "\n",
        "Filtering edges\n",
        "|0                           50%                         100%|\n",
        " "
       ]
      },
      {
       "output_type": "stream",
       "stream": "stderr",
       "text": [
        "="
       ]
      },
      {
       "output_type": "stream",
       "stream": "stderr",
       "text": [
        "="
       ]
      },
      {
       "output_type": "stream",
       "stream": "stderr",
       "text": [
        "="
       ]
      },
      {
       "output_type": "stream",
       "stream": "stderr",
       "text": [
        "="
       ]
      },
      {
       "output_type": "stream",
       "stream": "stderr",
       "text": [
        "="
       ]
      },
      {
       "output_type": "stream",
       "stream": "stderr",
       "text": [
        "="
       ]
      },
      {
       "output_type": "stream",
       "stream": "stderr",
       "text": [
        "="
       ]
      },
      {
       "output_type": "stream",
       "stream": "stderr",
       "text": [
        "="
       ]
      },
      {
       "output_type": "stream",
       "stream": "stderr",
       "text": [
        "="
       ]
      },
      {
       "output_type": "stream",
       "stream": "stderr",
       "text": [
        "="
       ]
      },
      {
       "output_type": "stream",
       "stream": "stderr",
       "text": [
        "="
       ]
      },
      {
       "output_type": "stream",
       "stream": "stderr",
       "text": [
        "="
       ]
      },
      {
       "output_type": "stream",
       "stream": "stderr",
       "text": [
        "="
       ]
      },
      {
       "output_type": "stream",
       "stream": "stderr",
       "text": [
        "="
       ]
      },
      {
       "output_type": "stream",
       "stream": "stderr",
       "text": [
        "="
       ]
      },
      {
       "output_type": "stream",
       "stream": "stderr",
       "text": [
        "="
       ]
      },
      {
       "output_type": "stream",
       "stream": "stderr",
       "text": [
        "="
       ]
      },
      {
       "output_type": "stream",
       "stream": "stderr",
       "text": [
        "="
       ]
      },
      {
       "output_type": "stream",
       "stream": "stderr",
       "text": [
        "="
       ]
      },
      {
       "output_type": "stream",
       "stream": "stderr",
       "text": [
        "="
       ]
      },
      {
       "output_type": "stream",
       "stream": "stderr",
       "text": [
        "="
       ]
      },
      {
       "output_type": "stream",
       "stream": "stderr",
       "text": [
        "="
       ]
      },
      {
       "output_type": "stream",
       "stream": "stderr",
       "text": [
        "="
       ]
      },
      {
       "output_type": "stream",
       "stream": "stderr",
       "text": [
        "="
       ]
      },
      {
       "output_type": "stream",
       "stream": "stderr",
       "text": [
        "="
       ]
      },
      {
       "output_type": "stream",
       "stream": "stderr",
       "text": [
        "="
       ]
      },
      {
       "output_type": "stream",
       "stream": "stderr",
       "text": [
        "="
       ]
      },
      {
       "output_type": "stream",
       "stream": "stderr",
       "text": [
        "="
       ]
      },
      {
       "output_type": "stream",
       "stream": "stderr",
       "text": [
        "="
       ]
      },
      {
       "output_type": "stream",
       "stream": "stderr",
       "text": [
        "="
       ]
      },
      {
       "output_type": "stream",
       "stream": "stderr",
       "text": [
        "="
       ]
      },
      {
       "output_type": "stream",
       "stream": "stderr",
       "text": [
        "="
       ]
      },
      {
       "output_type": "stream",
       "stream": "stderr",
       "text": [
        "="
       ]
      },
      {
       "output_type": "stream",
       "stream": "stderr",
       "text": [
        "="
       ]
      },
      {
       "output_type": "stream",
       "stream": "stderr",
       "text": [
        "="
       ]
      },
      {
       "output_type": "stream",
       "stream": "stderr",
       "text": [
        "="
       ]
      },
      {
       "output_type": "stream",
       "stream": "stderr",
       "text": [
        "="
       ]
      },
      {
       "output_type": "stream",
       "stream": "stderr",
       "text": [
        "="
       ]
      },
      {
       "output_type": "stream",
       "stream": "stderr",
       "text": [
        "="
       ]
      },
      {
       "output_type": "stream",
       "stream": "stderr",
       "text": [
        "="
       ]
      },
      {
       "output_type": "stream",
       "stream": "stderr",
       "text": [
        "="
       ]
      },
      {
       "output_type": "stream",
       "stream": "stderr",
       "text": [
        "="
       ]
      },
      {
       "output_type": "stream",
       "stream": "stderr",
       "text": [
        "="
       ]
      },
      {
       "output_type": "stream",
       "stream": "stderr",
       "text": [
        "="
       ]
      },
      {
       "output_type": "stream",
       "stream": "stderr",
       "text": [
        "="
       ]
      },
      {
       "output_type": "stream",
       "stream": "stderr",
       "text": [
        "="
       ]
      },
      {
       "output_type": "stream",
       "stream": "stderr",
       "text": [
        "="
       ]
      },
      {
       "output_type": "stream",
       "stream": "stderr",
       "text": [
        "="
       ]
      },
      {
       "output_type": "stream",
       "stream": "stderr",
       "text": [
        "="
       ]
      },
      {
       "output_type": "stream",
       "stream": "stderr",
       "text": [
        "="
       ]
      },
      {
       "output_type": "stream",
       "stream": "stderr",
       "text": [
        "="
       ]
      },
      {
       "output_type": "stream",
       "stream": "stderr",
       "text": [
        "="
       ]
      },
      {
       "output_type": "stream",
       "stream": "stderr",
       "text": [
        "="
       ]
      },
      {
       "output_type": "stream",
       "stream": "stderr",
       "text": [
        "="
       ]
      },
      {
       "output_type": "stream",
       "stream": "stderr",
       "text": [
        "="
       ]
      },
      {
       "output_type": "stream",
       "stream": "stderr",
       "text": [
        "="
       ]
      },
      {
       "output_type": "stream",
       "stream": "stderr",
       "text": [
        "="
       ]
      },
      {
       "output_type": "stream",
       "stream": "stderr",
       "text": [
        "="
       ]
      },
      {
       "output_type": "stream",
       "stream": "stderr",
       "text": [
        "="
       ]
      },
      {
       "output_type": "stream",
       "stream": "stderr",
       "text": [
        "="
       ]
      },
      {
       "output_type": "stream",
       "stream": "stderr",
       "text": [
        "\n",
        "Placing graph vertices\n",
        "|0                           50%                         100%|\n",
        " "
       ]
      },
      {
       "output_type": "stream",
       "stream": "stderr",
       "text": [
        "="
       ]
      },
      {
       "output_type": "stream",
       "stream": "stderr",
       "text": [
        "=="
       ]
      },
      {
       "output_type": "stream",
       "stream": "stderr",
       "text": [
        "=="
       ]
      },
      {
       "output_type": "stream",
       "stream": "stderr",
       "text": [
        "=="
       ]
      },
      {
       "output_type": "stream",
       "stream": "stderr",
       "text": [
        "=="
       ]
      },
      {
       "output_type": "stream",
       "stream": "stderr",
       "text": [
        "=="
       ]
      },
      {
       "output_type": "stream",
       "stream": "stderr",
       "text": [
        "=="
       ]
      },
      {
       "output_type": "stream",
       "stream": "stderr",
       "text": [
        "=="
       ]
      },
      {
       "output_type": "stream",
       "stream": "stderr",
       "text": [
        "=="
       ]
      },
      {
       "output_type": "stream",
       "stream": "stderr",
       "text": [
        "=="
       ]
      },
      {
       "output_type": "stream",
       "stream": "stderr",
       "text": [
        "=="
       ]
      },
      {
       "output_type": "stream",
       "stream": "stderr",
       "text": [
        "=="
       ]
      },
      {
       "output_type": "stream",
       "stream": "stderr",
       "text": [
        "=="
       ]
      },
      {
       "output_type": "stream",
       "stream": "stderr",
       "text": [
        "=="
       ]
      },
      {
       "output_type": "stream",
       "stream": "stderr",
       "text": [
        "=="
       ]
      },
      {
       "output_type": "stream",
       "stream": "stderr",
       "text": [
        "="
       ]
      },
      {
       "output_type": "stream",
       "stream": "stderr",
       "text": [
        "=="
       ]
      },
      {
       "output_type": "stream",
       "stream": "stderr",
       "text": [
        "=="
       ]
      },
      {
       "output_type": "stream",
       "stream": "stderr",
       "text": [
        "=="
       ]
      },
      {
       "output_type": "stream",
       "stream": "stderr",
       "text": [
        "=="
       ]
      },
      {
       "output_type": "stream",
       "stream": "stderr",
       "text": [
        "=="
       ]
      },
      {
       "output_type": "stream",
       "stream": "stderr",
       "text": [
        "=="
       ]
      },
      {
       "output_type": "stream",
       "stream": "stderr",
       "text": [
        "=="
       ]
      },
      {
       "output_type": "stream",
       "stream": "stderr",
       "text": [
        "=="
       ]
      },
      {
       "output_type": "stream",
       "stream": "stderr",
       "text": [
        "=="
       ]
      },
      {
       "output_type": "stream",
       "stream": "stderr",
       "text": [
        "=="
       ]
      },
      {
       "output_type": "stream",
       "stream": "stderr",
       "text": [
        "=="
       ]
      },
      {
       "output_type": "stream",
       "stream": "stderr",
       "text": [
        "=="
       ]
      },
      {
       "output_type": "stream",
       "stream": "stderr",
       "text": [
        "=="
       ]
      },
      {
       "output_type": "stream",
       "stream": "stderr",
       "text": [
        "=="
       ]
      },
      {
       "output_type": "stream",
       "stream": "stderr",
       "text": [
        "=="
       ]
      },
      {
       "output_type": "stream",
       "stream": "stderr",
       "text": [
        "\n",
        "Generating placement report\n",
        "|0                           50%                         100%|\n",
        " "
       ]
      },
      {
       "output_type": "stream",
       "stream": "stderr",
       "text": [
        "===================="
       ]
      },
      {
       "output_type": "stream",
       "stream": "stderr",
       "text": [
        "===================="
       ]
      },
      {
       "output_type": "stream",
       "stream": "stderr",
       "text": [
        "===================="
       ]
      },
      {
       "output_type": "stream",
       "stream": "stderr",
       "text": [
        "\n",
        "Generating placement by core report\n",
        "|0                           50%                         100%|\n",
        " "
       ]
      },
      {
       "output_type": "stream",
       "stream": "stderr",
       "text": [
        "==============="
       ]
      },
      {
       "output_type": "stream",
       "stream": "stderr",
       "text": [
        "==============="
       ]
      },
      {
       "output_type": "stream",
       "stream": "stderr",
       "text": [
        "==============="
       ]
      },
      {
       "output_type": "stream",
       "stream": "stderr",
       "text": [
        "==============="
       ]
      },
      {
       "output_type": "stream",
       "stream": "stderr",
       "text": [
        "\n",
        "Generating SDRAM usage report\n",
        "|0                           50%                         100%|\n",
        " "
       ]
      },
      {
       "output_type": "stream",
       "stream": "stderr",
       "text": [
        "="
       ]
      },
      {
       "output_type": "stream",
       "stream": "stderr",
       "text": [
        "=="
       ]
      },
      {
       "output_type": "stream",
       "stream": "stderr",
       "text": [
        "=="
       ]
      },
      {
       "output_type": "stream",
       "stream": "stderr",
       "text": [
        "="
       ]
      },
      {
       "output_type": "stream",
       "stream": "stderr",
       "text": [
        "=="
       ]
      },
      {
       "output_type": "stream",
       "stream": "stderr",
       "text": [
        "=="
       ]
      },
      {
       "output_type": "stream",
       "stream": "stderr",
       "text": [
        "=="
       ]
      },
      {
       "output_type": "stream",
       "stream": "stderr",
       "text": [
        "="
       ]
      },
      {
       "output_type": "stream",
       "stream": "stderr",
       "text": [
        "=="
       ]
      },
      {
       "output_type": "stream",
       "stream": "stderr",
       "text": [
        "=="
       ]
      },
      {
       "output_type": "stream",
       "stream": "stderr",
       "text": [
        "="
       ]
      },
      {
       "output_type": "stream",
       "stream": "stderr",
       "text": [
        "=="
       ]
      },
      {
       "output_type": "stream",
       "stream": "stderr",
       "text": [
        "=="
       ]
      },
      {
       "output_type": "stream",
       "stream": "stderr",
       "text": [
        "=="
       ]
      },
      {
       "output_type": "stream",
       "stream": "stderr",
       "text": [
        "="
       ]
      },
      {
       "output_type": "stream",
       "stream": "stderr",
       "text": [
        "=="
       ]
      },
      {
       "output_type": "stream",
       "stream": "stderr",
       "text": [
        "=="
       ]
      },
      {
       "output_type": "stream",
       "stream": "stderr",
       "text": [
        "="
       ]
      },
      {
       "output_type": "stream",
       "stream": "stderr",
       "text": [
        "=="
       ]
      },
      {
       "output_type": "stream",
       "stream": "stderr",
       "text": [
        "=="
       ]
      },
      {
       "output_type": "stream",
       "stream": "stderr",
       "text": [
        "=="
       ]
      },
      {
       "output_type": "stream",
       "stream": "stderr",
       "text": [
        "="
       ]
      },
      {
       "output_type": "stream",
       "stream": "stderr",
       "text": [
        "=="
       ]
      },
      {
       "output_type": "stream",
       "stream": "stderr",
       "text": [
        "=="
       ]
      },
      {
       "output_type": "stream",
       "stream": "stderr",
       "text": [
        "="
       ]
      },
      {
       "output_type": "stream",
       "stream": "stderr",
       "text": [
        "=="
       ]
      },
      {
       "output_type": "stream",
       "stream": "stderr",
       "text": [
        "=="
       ]
      },
      {
       "output_type": "stream",
       "stream": "stderr",
       "text": [
        "=="
       ]
      },
      {
       "output_type": "stream",
       "stream": "stderr",
       "text": [
        "="
       ]
      },
      {
       "output_type": "stream",
       "stream": "stderr",
       "text": [
        "=="
       ]
      },
      {
       "output_type": "stream",
       "stream": "stderr",
       "text": [
        "=="
       ]
      },
      {
       "output_type": "stream",
       "stream": "stderr",
       "text": [
        "="
       ]
      },
      {
       "output_type": "stream",
       "stream": "stderr",
       "text": [
        "=="
       ]
      },
      {
       "output_type": "stream",
       "stream": "stderr",
       "text": [
        "===="
       ]
      },
      {
       "output_type": "stream",
       "stream": "stderr",
       "text": [
        "\n",
        "Routing"
       ]
      },
      {
       "output_type": "stream",
       "stream": "stderr",
       "text": [
        "\n",
        "|0                           50%                         100%|\n",
        " "
       ]
      },
      {
       "output_type": "stream",
       "stream": "stderr",
       "text": [
        "======="
       ]
      },
      {
       "output_type": "stream",
       "stream": "stderr",
       "text": [
        "========"
       ]
      },
      {
       "output_type": "stream",
       "stream": "stderr",
       "text": [
        "======="
       ]
      },
      {
       "output_type": "stream",
       "stream": "stderr",
       "text": [
        "========"
       ]
      },
      {
       "output_type": "stream",
       "stream": "stderr",
       "text": [
        "======="
       ]
      },
      {
       "output_type": "stream",
       "stream": "stderr",
       "text": [
        "========"
       ]
      },
      {
       "output_type": "stream",
       "stream": "stderr",
       "text": [
        "======="
       ]
      },
      {
       "output_type": "stream",
       "stream": "stderr",
       "text": [
        "========"
       ]
      },
      {
       "output_type": "stream",
       "stream": "stderr",
       "text": [
        "\n",
        "Allocating tags\n",
        "|0                           50%                         100%|\n",
        " "
       ]
      },
      {
       "output_type": "stream",
       "stream": "stderr",
       "text": [
        "="
       ]
      },
      {
       "output_type": "stream",
       "stream": "stderr",
       "text": [
        "=="
       ]
      },
      {
       "output_type": "stream",
       "stream": "stderr",
       "text": [
        "=="
       ]
      },
      {
       "output_type": "stream",
       "stream": "stderr",
       "text": [
        "=="
       ]
      },
      {
       "output_type": "stream",
       "stream": "stderr",
       "text": [
        "=="
       ]
      },
      {
       "output_type": "stream",
       "stream": "stderr",
       "text": [
        "=="
       ]
      },
      {
       "output_type": "stream",
       "stream": "stderr",
       "text": [
        "=="
       ]
      },
      {
       "output_type": "stream",
       "stream": "stderr",
       "text": [
        "=="
       ]
      },
      {
       "output_type": "stream",
       "stream": "stderr",
       "text": [
        "=="
       ]
      },
      {
       "output_type": "stream",
       "stream": "stderr",
       "text": [
        "=="
       ]
      },
      {
       "output_type": "stream",
       "stream": "stderr",
       "text": [
        "=="
       ]
      },
      {
       "output_type": "stream",
       "stream": "stderr",
       "text": [
        "=="
       ]
      },
      {
       "output_type": "stream",
       "stream": "stderr",
       "text": [
        "=="
       ]
      },
      {
       "output_type": "stream",
       "stream": "stderr",
       "text": [
        "=="
       ]
      },
      {
       "output_type": "stream",
       "stream": "stderr",
       "text": [
        "=="
       ]
      },
      {
       "output_type": "stream",
       "stream": "stderr",
       "text": [
        "="
       ]
      },
      {
       "output_type": "stream",
       "stream": "stderr",
       "text": [
        "=="
       ]
      },
      {
       "output_type": "stream",
       "stream": "stderr",
       "text": [
        "=="
       ]
      },
      {
       "output_type": "stream",
       "stream": "stderr",
       "text": [
        "=="
       ]
      },
      {
       "output_type": "stream",
       "stream": "stderr",
       "text": [
        "=="
       ]
      },
      {
       "output_type": "stream",
       "stream": "stderr",
       "text": [
        "=="
       ]
      },
      {
       "output_type": "stream",
       "stream": "stderr",
       "text": [
        "=="
       ]
      },
      {
       "output_type": "stream",
       "stream": "stderr",
       "text": [
        "=="
       ]
      },
      {
       "output_type": "stream",
       "stream": "stderr",
       "text": [
        "=="
       ]
      },
      {
       "output_type": "stream",
       "stream": "stderr",
       "text": [
        "=="
       ]
      },
      {
       "output_type": "stream",
       "stream": "stderr",
       "text": [
        "=="
       ]
      },
      {
       "output_type": "stream",
       "stream": "stderr",
       "text": [
        "=="
       ]
      },
      {
       "output_type": "stream",
       "stream": "stderr",
       "text": [
        "=="
       ]
      },
      {
       "output_type": "stream",
       "stream": "stderr",
       "text": [
        "=="
       ]
      },
      {
       "output_type": "stream",
       "stream": "stderr",
       "text": [
        "=="
       ]
      },
      {
       "output_type": "stream",
       "stream": "stderr",
       "text": [
        "=="
       ]
      },
      {
       "output_type": "stream",
       "stream": "stderr",
       "text": [
        "\n",
        "Reporting Tags\n",
        "|0                           50%                         100%|\n",
        " ============================================================"
       ]
      },
      {
       "output_type": "stream",
       "stream": "stderr",
       "text": [
        "\n",
        "Deducing edge to number of keys map\n",
        "|0                           50%                         100%|\n",
        " "
       ]
      },
      {
       "output_type": "stream",
       "stream": "stderr",
       "text": [
        "="
       ]
      },
      {
       "output_type": "stream",
       "stream": "stderr",
       "text": [
        "=="
       ]
      },
      {
       "output_type": "stream",
       "stream": "stderr",
       "text": [
        "=="
       ]
      },
      {
       "output_type": "stream",
       "stream": "stderr",
       "text": [
        "=="
       ]
      },
      {
       "output_type": "stream",
       "stream": "stderr",
       "text": [
        "=="
       ]
      },
      {
       "output_type": "stream",
       "stream": "stderr",
       "text": [
        "=="
       ]
      },
      {
       "output_type": "stream",
       "stream": "stderr",
       "text": [
        "=="
       ]
      },
      {
       "output_type": "stream",
       "stream": "stderr",
       "text": [
        "=="
       ]
      },
      {
       "output_type": "stream",
       "stream": "stderr",
       "text": [
        "=="
       ]
      },
      {
       "output_type": "stream",
       "stream": "stderr",
       "text": [
        "=="
       ]
      },
      {
       "output_type": "stream",
       "stream": "stderr",
       "text": [
        "=="
       ]
      },
      {
       "output_type": "stream",
       "stream": "stderr",
       "text": [
        "=="
       ]
      },
      {
       "output_type": "stream",
       "stream": "stderr",
       "text": [
        "=="
       ]
      },
      {
       "output_type": "stream",
       "stream": "stderr",
       "text": [
        "=="
       ]
      },
      {
       "output_type": "stream",
       "stream": "stderr",
       "text": [
        "=="
       ]
      },
      {
       "output_type": "stream",
       "stream": "stderr",
       "text": [
        "="
       ]
      },
      {
       "output_type": "stream",
       "stream": "stderr",
       "text": [
        "=="
       ]
      },
      {
       "output_type": "stream",
       "stream": "stderr",
       "text": [
        "=="
       ]
      },
      {
       "output_type": "stream",
       "stream": "stderr",
       "text": [
        "=="
       ]
      },
      {
       "output_type": "stream",
       "stream": "stderr",
       "text": [
        "=="
       ]
      },
      {
       "output_type": "stream",
       "stream": "stderr",
       "text": [
        "=="
       ]
      },
      {
       "output_type": "stream",
       "stream": "stderr",
       "text": [
        "=="
       ]
      },
      {
       "output_type": "stream",
       "stream": "stderr",
       "text": [
        "=="
       ]
      },
      {
       "output_type": "stream",
       "stream": "stderr",
       "text": [
        "=="
       ]
      },
      {
       "output_type": "stream",
       "stream": "stderr",
       "text": [
        "=="
       ]
      },
      {
       "output_type": "stream",
       "stream": "stderr",
       "text": [
        "=="
       ]
      },
      {
       "output_type": "stream",
       "stream": "stderr",
       "text": [
        "=="
       ]
      },
      {
       "output_type": "stream",
       "stream": "stderr",
       "text": [
        "=="
       ]
      },
      {
       "output_type": "stream",
       "stream": "stderr",
       "text": [
        "=="
       ]
      },
      {
       "output_type": "stream",
       "stream": "stderr",
       "text": [
        "=="
       ]
      },
      {
       "output_type": "stream",
       "stream": "stderr",
       "text": [
        "=="
       ]
      },
      {
       "output_type": "stream",
       "stream": "stderr",
       "text": [
        "\n",
        "Allocating routing keys\n",
        "|0                           50%                         100%|\n",
        " "
       ]
      },
      {
       "output_type": "stream",
       "stream": "stderr",
       "text": [
        "============================================================"
       ]
      },
      {
       "output_type": "stream",
       "stream": "stderr",
       "text": [
        "\n",
        "Generating Routing info report\n",
        "|0                           50%                         100%|\n",
        " "
       ]
      },
      {
       "output_type": "stream",
       "stream": "stderr",
       "text": [
        "="
       ]
      },
      {
       "output_type": "stream",
       "stream": "stderr",
       "text": [
        "=="
       ]
      },
      {
       "output_type": "stream",
       "stream": "stderr",
       "text": [
        "=="
       ]
      },
      {
       "output_type": "stream",
       "stream": "stderr",
       "text": [
        "=="
       ]
      },
      {
       "output_type": "stream",
       "stream": "stderr",
       "text": [
        "=="
       ]
      },
      {
       "output_type": "stream",
       "stream": "stderr",
       "text": [
        "=="
       ]
      },
      {
       "output_type": "stream",
       "stream": "stderr",
       "text": [
        "=="
       ]
      },
      {
       "output_type": "stream",
       "stream": "stderr",
       "text": [
        "=="
       ]
      },
      {
       "output_type": "stream",
       "stream": "stderr",
       "text": [
        "=="
       ]
      },
      {
       "output_type": "stream",
       "stream": "stderr",
       "text": [
        "=="
       ]
      },
      {
       "output_type": "stream",
       "stream": "stderr",
       "text": [
        "=="
       ]
      },
      {
       "output_type": "stream",
       "stream": "stderr",
       "text": [
        "=="
       ]
      },
      {
       "output_type": "stream",
       "stream": "stderr",
       "text": [
        "=="
       ]
      },
      {
       "output_type": "stream",
       "stream": "stderr",
       "text": [
        "=="
       ]
      },
      {
       "output_type": "stream",
       "stream": "stderr",
       "text": [
        "=="
       ]
      },
      {
       "output_type": "stream",
       "stream": "stderr",
       "text": [
        "="
       ]
      },
      {
       "output_type": "stream",
       "stream": "stderr",
       "text": [
        "=="
       ]
      },
      {
       "output_type": "stream",
       "stream": "stderr",
       "text": [
        "=="
       ]
      },
      {
       "output_type": "stream",
       "stream": "stderr",
       "text": [
        "=="
       ]
      },
      {
       "output_type": "stream",
       "stream": "stderr",
       "text": [
        "=="
       ]
      },
      {
       "output_type": "stream",
       "stream": "stderr",
       "text": [
        "=="
       ]
      },
      {
       "output_type": "stream",
       "stream": "stderr",
       "text": [
        "=="
       ]
      },
      {
       "output_type": "stream",
       "stream": "stderr",
       "text": [
        "=="
       ]
      },
      {
       "output_type": "stream",
       "stream": "stderr",
       "text": [
        "=="
       ]
      },
      {
       "output_type": "stream",
       "stream": "stderr",
       "text": [
        "=="
       ]
      },
      {
       "output_type": "stream",
       "stream": "stderr",
       "text": [
        "=="
       ]
      },
      {
       "output_type": "stream",
       "stream": "stderr",
       "text": [
        "=="
       ]
      },
      {
       "output_type": "stream",
       "stream": "stderr",
       "text": [
        "=="
       ]
      },
      {
       "output_type": "stream",
       "stream": "stderr",
       "text": [
        "=="
       ]
      },
      {
       "output_type": "stream",
       "stream": "stderr",
       "text": [
        "=="
       ]
      },
      {
       "output_type": "stream",
       "stream": "stderr",
       "text": [
        "=="
       ]
      },
      {
       "output_type": "stream",
       "stream": "stderr",
       "text": [
        "\n",
        "Generating routing tables\n",
        "|0                           50%                         100%|\n",
        " "
       ]
      },
      {
       "output_type": "stream",
       "stream": "stderr",
       "text": [
        "==============="
       ]
      },
      {
       "output_type": "stream",
       "stream": "stderr",
       "text": [
        "==============="
       ]
      },
      {
       "output_type": "stream",
       "stream": "stderr",
       "text": [
        "==============="
       ]
      },
      {
       "output_type": "stream",
       "stream": "stderr",
       "text": [
        "==============="
       ]
      },
      {
       "output_type": "stream",
       "stream": "stderr",
       "text": [
        "\n",
        "Generating Router table report\n",
        "|0                           50%                         100%|\n",
        " "
       ]
      },
      {
       "output_type": "stream",
       "stream": "stderr",
       "text": [
        "=============================="
       ]
      },
      {
       "output_type": "stream",
       "stream": "stderr",
       "text": [
        "=============================="
       ]
      },
      {
       "output_type": "stream",
       "stream": "stderr",
       "text": [
        "\n",
        "Compressing routing Tables\n",
        "|0                           50%                         100%|\n",
        " "
       ]
      },
      {
       "output_type": "stream",
       "stream": "stderr",
       "text": [
        "=============================="
       ]
      },
      {
       "output_type": "stream",
       "stream": "stderr",
       "text": [
        "=============================="
       ]
      },
      {
       "output_type": "stream",
       "stream": "stderr",
       "text": [
        "\n",
        "Generating compressed router table report\n",
        "|0                           50%                         100%|\n",
        " "
       ]
      },
      {
       "output_type": "stream",
       "stream": "stderr",
       "text": [
        "=============================="
       ]
      },
      {
       "output_type": "stream",
       "stream": "stderr",
       "text": [
        "=============================="
       ]
      },
      {
       "output_type": "stream",
       "stream": "stderr",
       "text": [
        "\n",
        "Generating comparison of router table report\n",
        "|0                           50%                         100%|\n",
        " "
       ]
      },
      {
       "output_type": "stream",
       "stream": "stderr",
       "text": [
        "=============================="
       ]
      },
      {
       "output_type": "stream",
       "stream": "stderr",
       "text": [
        "=============================="
       ]
      },
      {
       "output_type": "stream",
       "stream": "stderr",
       "text": [
        "\n",
        "Generating sPyNNaker data specifications\n",
        "|0                           50%                         100%|\n",
        " "
       ]
      },
      {
       "output_type": "stream",
       "stream": "stderr",
       "text": [
        "="
       ]
      },
      {
       "output_type": "stream",
       "stream": "stderr",
       "text": [
        "=="
       ]
      },
      {
       "output_type": "stream",
       "stream": "stderr",
       "text": [
        "=="
       ]
      },
      {
       "output_type": "stream",
       "stream": "stderr",
       "text": [
        "=="
       ]
      },
      {
       "output_type": "stream",
       "stream": "stderr",
       "text": [
        "=="
       ]
      },
      {
       "output_type": "stream",
       "stream": "stderr",
       "text": [
        "=="
       ]
      },
      {
       "output_type": "stream",
       "stream": "stderr",
       "text": [
        "=="
       ]
      },
      {
       "output_type": "stream",
       "stream": "stderr",
       "text": [
        "=="
       ]
      },
      {
       "output_type": "stream",
       "stream": "stderr",
       "text": [
        "=="
       ]
      },
      {
       "output_type": "stream",
       "stream": "stderr",
       "text": [
        "=="
       ]
      },
      {
       "output_type": "stream",
       "stream": "stderr",
       "text": [
        "=="
       ]
      },
      {
       "output_type": "stream",
       "stream": "stderr",
       "text": [
        "=="
       ]
      },
      {
       "output_type": "stream",
       "stream": "stderr",
       "text": [
        "=="
       ]
      },
      {
       "output_type": "stream",
       "stream": "stderr",
       "text": [
        "=="
       ]
      },
      {
       "output_type": "stream",
       "stream": "stderr",
       "text": [
        "=="
       ]
      },
      {
       "output_type": "stream",
       "stream": "stderr",
       "text": [
        "="
       ]
      },
      {
       "output_type": "stream",
       "stream": "stderr",
       "text": [
        "=="
       ]
      },
      {
       "output_type": "stream",
       "stream": "stderr",
       "text": [
        "=="
       ]
      },
      {
       "output_type": "stream",
       "stream": "stderr",
       "text": [
        "=="
       ]
      },
      {
       "output_type": "stream",
       "stream": "stderr",
       "text": [
        "=="
       ]
      },
      {
       "output_type": "stream",
       "stream": "stderr",
       "text": [
        "=="
       ]
      },
      {
       "output_type": "stream",
       "stream": "stderr",
       "text": [
        "=="
       ]
      },
      {
       "output_type": "stream",
       "stream": "stderr",
       "text": [
        "=="
       ]
      },
      {
       "output_type": "stream",
       "stream": "stderr",
       "text": [
        "=="
       ]
      },
      {
       "output_type": "stream",
       "stream": "stderr",
       "text": [
        "=="
       ]
      },
      {
       "output_type": "stream",
       "stream": "stderr",
       "text": [
        "=="
       ]
      },
      {
       "output_type": "stream",
       "stream": "stderr",
       "text": [
        "=="
       ]
      },
      {
       "output_type": "stream",
       "stream": "stderr",
       "text": [
        "=="
       ]
      },
      {
       "output_type": "stream",
       "stream": "stderr",
       "text": [
        "=="
       ]
      },
      {
       "output_type": "stream",
       "stream": "stderr",
       "text": [
        "=="
       ]
      },
      {
       "output_type": "stream",
       "stream": "stderr",
       "text": [
        "=="
       ]
      },
      {
       "output_type": "stream",
       "stream": "stderr",
       "text": [
        "\n",
        "Loading routing data onto the machine\n",
        "|0                           50%                         100%|\n",
        " "
       ]
      },
      {
       "output_type": "stream",
       "stream": "stderr",
       "text": [
        "=============================="
       ]
      },
      {
       "output_type": "stream",
       "stream": "stderr",
       "text": [
        "=============================="
       ]
      },
      {
       "output_type": "stream",
       "stream": "stderr",
       "text": [
        "\n",
        "Clearing tags\n",
        "|0                           50%                         100%|\n",
        " "
       ]
      },
      {
       "output_type": "stream",
       "stream": "stderr",
       "text": [
        "========"
       ]
      },
      {
       "output_type": "stream",
       "stream": "stderr",
       "text": [
        "========="
       ]
      },
      {
       "output_type": "stream",
       "stream": "stderr",
       "text": [
        "========"
       ]
      },
      {
       "output_type": "stream",
       "stream": "stderr",
       "text": [
        "========="
       ]
      },
      {
       "output_type": "stream",
       "stream": "stderr",
       "text": [
        "========"
       ]
      },
      {
       "output_type": "stream",
       "stream": "stderr",
       "text": [
        "========="
       ]
      },
      {
       "output_type": "stream",
       "stream": "stderr",
       "text": [
        "========="
       ]
      },
      {
       "output_type": "stream",
       "stream": "stderr",
       "text": [
        "\n",
        "Loading Tags\n",
        "|0                           50%                         100%|\n",
        " ============================================================"
       ]
      },
      {
       "output_type": "stream",
       "stream": "stderr",
       "text": [
        "\n",
        "Executing data specifications and loading data\n",
        "|0                           50%                         100%|\n",
        " "
       ]
      },
      {
       "output_type": "stream",
       "stream": "stderr",
       "text": [
        "="
       ]
      },
      {
       "output_type": "stream",
       "stream": "stderr",
       "text": [
        "=="
       ]
      },
      {
       "output_type": "stream",
       "stream": "stderr",
       "text": [
        "=="
       ]
      },
      {
       "output_type": "stream",
       "stream": "stderr",
       "text": [
        "=="
       ]
      },
      {
       "output_type": "stream",
       "stream": "stderr",
       "text": [
        "=="
       ]
      },
      {
       "output_type": "stream",
       "stream": "stderr",
       "text": [
        "=="
       ]
      },
      {
       "output_type": "stream",
       "stream": "stderr",
       "text": [
        "=="
       ]
      },
      {
       "output_type": "stream",
       "stream": "stderr",
       "text": [
        "=="
       ]
      },
      {
       "output_type": "stream",
       "stream": "stderr",
       "text": [
        "=="
       ]
      },
      {
       "output_type": "stream",
       "stream": "stderr",
       "text": [
        "=="
       ]
      },
      {
       "output_type": "stream",
       "stream": "stderr",
       "text": [
        "=="
       ]
      },
      {
       "output_type": "stream",
       "stream": "stderr",
       "text": [
        "=="
       ]
      },
      {
       "output_type": "stream",
       "stream": "stderr",
       "text": [
        "=="
       ]
      },
      {
       "output_type": "stream",
       "stream": "stderr",
       "text": [
        "=="
       ]
      },
      {
       "output_type": "stream",
       "stream": "stderr",
       "text": [
        "=="
       ]
      },
      {
       "output_type": "stream",
       "stream": "stderr",
       "text": [
        "="
       ]
      },
      {
       "output_type": "stream",
       "stream": "stderr",
       "text": [
        "=="
       ]
      },
      {
       "output_type": "stream",
       "stream": "stderr",
       "text": [
        "=="
       ]
      },
      {
       "output_type": "stream",
       "stream": "stderr",
       "text": [
        "=="
       ]
      },
      {
       "output_type": "stream",
       "stream": "stderr",
       "text": [
        "=="
       ]
      },
      {
       "output_type": "stream",
       "stream": "stderr",
       "text": [
        "=="
       ]
      },
      {
       "output_type": "stream",
       "stream": "stderr",
       "text": [
        "=="
       ]
      },
      {
       "output_type": "stream",
       "stream": "stderr",
       "text": [
        "=="
       ]
      },
      {
       "output_type": "stream",
       "stream": "stderr",
       "text": [
        "=="
       ]
      },
      {
       "output_type": "stream",
       "stream": "stderr",
       "text": [
        "=="
       ]
      },
      {
       "output_type": "stream",
       "stream": "stderr",
       "text": [
        "=="
       ]
      },
      {
       "output_type": "stream",
       "stream": "stderr",
       "text": [
        "=="
       ]
      },
      {
       "output_type": "stream",
       "stream": "stderr",
       "text": [
        "=="
       ]
      },
      {
       "output_type": "stream",
       "stream": "stderr",
       "text": [
        "=="
       ]
      },
      {
       "output_type": "stream",
       "stream": "stderr",
       "text": [
        "=="
       ]
      },
      {
       "output_type": "stream",
       "stream": "stderr",
       "text": [
        "=="
       ]
      },
      {
       "output_type": "stream",
       "stream": "stderr",
       "text": [
        "\n",
        "Loading executables onto the machine\n",
        "|0                           50%                         100%|\n",
        " "
       ]
      },
      {
       "output_type": "stream",
       "stream": "stderr",
       "text": [
        "=========================================================="
       ]
      },
      {
       "output_type": "stream",
       "stream": "stderr",
       "text": [
        "=="
       ]
      },
      {
       "output_type": "stream",
       "stream": "stderr",
       "text": [
        "\n",
        "Initialising buffers\n",
        "|0                           50%                         100%|\n",
        " "
       ]
      },
      {
       "output_type": "stream",
       "stream": "stderr",
       "text": [
        "="
       ]
      },
      {
       "output_type": "stream",
       "stream": "stderr",
       "text": [
        "=="
       ]
      },
      {
       "output_type": "stream",
       "stream": "stderr",
       "text": [
        "=="
       ]
      },
      {
       "output_type": "stream",
       "stream": "stderr",
       "text": [
        "=="
       ]
      },
      {
       "output_type": "stream",
       "stream": "stderr",
       "text": [
        "=="
       ]
      },
      {
       "output_type": "stream",
       "stream": "stderr",
       "text": [
        "=="
       ]
      },
      {
       "output_type": "stream",
       "stream": "stderr",
       "text": [
        "=="
       ]
      },
      {
       "output_type": "stream",
       "stream": "stderr",
       "text": [
        "=="
       ]
      },
      {
       "output_type": "stream",
       "stream": "stderr",
       "text": [
        "=="
       ]
      },
      {
       "output_type": "stream",
       "stream": "stderr",
       "text": [
        "=="
       ]
      },
      {
       "output_type": "stream",
       "stream": "stderr",
       "text": [
        "=="
       ]
      },
      {
       "output_type": "stream",
       "stream": "stderr",
       "text": [
        "=="
       ]
      },
      {
       "output_type": "stream",
       "stream": "stderr",
       "text": [
        "=="
       ]
      },
      {
       "output_type": "stream",
       "stream": "stderr",
       "text": [
        "=="
       ]
      },
      {
       "output_type": "stream",
       "stream": "stderr",
       "text": [
        "=="
       ]
      },
      {
       "output_type": "stream",
       "stream": "stderr",
       "text": [
        "="
       ]
      },
      {
       "output_type": "stream",
       "stream": "stderr",
       "text": [
        "=="
       ]
      },
      {
       "output_type": "stream",
       "stream": "stderr",
       "text": [
        "=="
       ]
      },
      {
       "output_type": "stream",
       "stream": "stderr",
       "text": [
        "=="
       ]
      },
      {
       "output_type": "stream",
       "stream": "stderr",
       "text": [
        "=="
       ]
      },
      {
       "output_type": "stream",
       "stream": "stderr",
       "text": [
        "=="
       ]
      },
      {
       "output_type": "stream",
       "stream": "stderr",
       "text": [
        "=="
       ]
      },
      {
       "output_type": "stream",
       "stream": "stderr",
       "text": [
        "=="
       ]
      },
      {
       "output_type": "stream",
       "stream": "stderr",
       "text": [
        "=="
       ]
      },
      {
       "output_type": "stream",
       "stream": "stderr",
       "text": [
        "=="
       ]
      },
      {
       "output_type": "stream",
       "stream": "stderr",
       "text": [
        "=="
       ]
      },
      {
       "output_type": "stream",
       "stream": "stderr",
       "text": [
        "=="
       ]
      },
      {
       "output_type": "stream",
       "stream": "stderr",
       "text": [
        "=="
       ]
      },
      {
       "output_type": "stream",
       "stream": "stderr",
       "text": [
        "=="
       ]
      },
      {
       "output_type": "stream",
       "stream": "stderr",
       "text": [
        "=="
       ]
      },
      {
       "output_type": "stream",
       "stream": "stderr",
       "text": [
        "=="
       ]
      },
      {
       "output_type": "stream",
       "stream": "stderr",
       "text": [
        "\n",
        "Updating run time\n",
        "|0                           50%                         100%|\n",
        " "
       ]
      },
      {
       "output_type": "stream",
       "stream": "stderr",
       "text": [
        "="
       ]
      },
      {
       "output_type": "stream",
       "stream": "stderr",
       "text": [
        "=="
       ]
      },
      {
       "output_type": "stream",
       "stream": "stderr",
       "text": [
        "=="
       ]
      },
      {
       "output_type": "stream",
       "stream": "stderr",
       "text": [
        "=="
       ]
      },
      {
       "output_type": "stream",
       "stream": "stderr",
       "text": [
        "=="
       ]
      },
      {
       "output_type": "stream",
       "stream": "stderr",
       "text": [
        "=="
       ]
      },
      {
       "output_type": "stream",
       "stream": "stderr",
       "text": [
        "=="
       ]
      },
      {
       "output_type": "stream",
       "stream": "stderr",
       "text": [
        "=="
       ]
      },
      {
       "output_type": "stream",
       "stream": "stderr",
       "text": [
        "=="
       ]
      },
      {
       "output_type": "stream",
       "stream": "stderr",
       "text": [
        "=="
       ]
      },
      {
       "output_type": "stream",
       "stream": "stderr",
       "text": [
        "=="
       ]
      },
      {
       "output_type": "stream",
       "stream": "stderr",
       "text": [
        "=="
       ]
      },
      {
       "output_type": "stream",
       "stream": "stderr",
       "text": [
        "=="
       ]
      },
      {
       "output_type": "stream",
       "stream": "stderr",
       "text": [
        "=="
       ]
      },
      {
       "output_type": "stream",
       "stream": "stderr",
       "text": [
        "=="
       ]
      },
      {
       "output_type": "stream",
       "stream": "stderr",
       "text": [
        "="
       ]
      },
      {
       "output_type": "stream",
       "stream": "stderr",
       "text": [
        "=="
       ]
      },
      {
       "output_type": "stream",
       "stream": "stderr",
       "text": [
        "=="
       ]
      },
      {
       "output_type": "stream",
       "stream": "stderr",
       "text": [
        "=="
       ]
      },
      {
       "output_type": "stream",
       "stream": "stderr",
       "text": [
        "=="
       ]
      },
      {
       "output_type": "stream",
       "stream": "stderr",
       "text": [
        "=="
       ]
      },
      {
       "output_type": "stream",
       "stream": "stderr",
       "text": [
        "=="
       ]
      },
      {
       "output_type": "stream",
       "stream": "stderr",
       "text": [
        "=="
       ]
      },
      {
       "output_type": "stream",
       "stream": "stderr",
       "text": [
        "=="
       ]
      },
      {
       "output_type": "stream",
       "stream": "stderr",
       "text": [
        "=="
       ]
      },
      {
       "output_type": "stream",
       "stream": "stderr",
       "text": [
        "=="
       ]
      },
      {
       "output_type": "stream",
       "stream": "stderr",
       "text": [
        "=="
       ]
      },
      {
       "output_type": "stream",
       "stream": "stderr",
       "text": [
        "=="
       ]
      },
      {
       "output_type": "stream",
       "stream": "stderr",
       "text": [
        "=="
       ]
      },
      {
       "output_type": "stream",
       "stream": "stderr",
       "text": [
        "=="
       ]
      },
      {
       "output_type": "stream",
       "stream": "stderr",
       "text": [
        "=="
       ]
      },
      {
       "output_type": "stream",
       "stream": "stderr",
       "text": [
        "\n",
        "Loading buffers (0 bytes)\n",
        "|0                           50%                         100%|\n",
        " ============================================================"
       ]
      },
      {
       "output_type": "stream",
       "stream": "stdout",
       "text": [
        "1 Setting up recording...\n",
        "1 Running simulation...\n",
        "timings: number of neurons: 1500\n",
        "timings: number of synapses: 45000.0\n"
       ]
      },
      {
       "output_type": "stream",
       "stream": "stderr",
       "text": [
        "\n"
       ]
      }
     ],
     "prompt_number": 5
    },
    {
     "cell_type": "code",
     "collapsed": false,
     "input": [
      "\n",
      "# === Print results to file ===\n",
      "\n",
      "import pylab\n",
      "\n",
      "exc_spikes = exc_cells.getSpikes(compatible_output=True)\n",
      "pylab.figure()\n",
      "pylab.plot([i[1] for i in exc_spikes],\n",
      "           [i[0] for i in exc_spikes], \".\", markersize=2)\n",
      "pylab.xlabel('Time/ms')\n",
      "pylab.ylabel('spikes')\n",
      "pylab.title('spikes')\n",
      "pylab.show()\n",
      "\n",
      "writeCPUTime = timer.diff()\n",
      "\n",
      "if node_id == 0:\n",
      "    print \"\\n--- Vogels-Abbott Network Simulation ---\"\n",
      "    print \"Nodes                  : %d\" % np\n",
      "    print \"Simulation type        : %s\" % benchmark\n",
      "    print \"Number of Neurons      : %d\" % n\n",
      "    print \"Number of Synapses     : %s\" % connections\n",
      "    print \"Excitatory conductance : %g nS\" % Gexc\n",
      "    print \"Inhibitory conductance : %g nS\" % Ginh\n",
      "    print \"Build time             : %g s\" % buildCPUTime\n",
      "    print \"Simulation time        : %g s\" % simCPUTime\n",
      "    print \"Writing time           : %g s\" % writeCPUTime\n",
      "\n",
      "\n",
      "# === Finished with simulator ===\n",
      "\n",
      "end()"
     ],
     "language": "python",
     "metadata": {},
     "outputs": [
      {
       "output_type": "stream",
       "stream": "stderr",
       "text": [
        "Getting spikes for Excitatory_Cells\n",
        "|0                           50%                         100%|\n",
        " "
       ]
      },
      {
       "output_type": "stream",
       "stream": "stderr",
       "text": [
        "=="
       ]
      },
      {
       "output_type": "stream",
       "stream": "stderr",
       "text": [
        "==="
       ]
      },
      {
       "output_type": "stream",
       "stream": "stderr",
       "text": [
        "=="
       ]
      },
      {
       "output_type": "stream",
       "stream": "stderr",
       "text": [
        "==="
       ]
      },
      {
       "output_type": "stream",
       "stream": "stderr",
       "text": [
        "=="
       ]
      },
      {
       "output_type": "stream",
       "stream": "stderr",
       "text": [
        "==="
       ]
      },
      {
       "output_type": "stream",
       "stream": "stderr",
       "text": [
        "=="
       ]
      },
      {
       "output_type": "stream",
       "stream": "stderr",
       "text": [
        "==="
       ]
      },
      {
       "output_type": "stream",
       "stream": "stderr",
       "text": [
        "=="
       ]
      },
      {
       "output_type": "stream",
       "stream": "stderr",
       "text": [
        "==="
       ]
      },
      {
       "output_type": "stream",
       "stream": "stderr",
       "text": [
        "=="
       ]
      },
      {
       "output_type": "stream",
       "stream": "stderr",
       "text": [
        "==="
       ]
      },
      {
       "output_type": "stream",
       "stream": "stderr",
       "text": [
        "=="
       ]
      },
      {
       "output_type": "stream",
       "stream": "stderr",
       "text": [
        "==="
       ]
      },
      {
       "output_type": "stream",
       "stream": "stderr",
       "text": [
        "=="
       ]
      },
      {
       "output_type": "stream",
       "stream": "stderr",
       "text": [
        "==="
       ]
      },
      {
       "output_type": "stream",
       "stream": "stderr",
       "text": [
        "=="
       ]
      },
      {
       "output_type": "stream",
       "stream": "stderr",
       "text": [
        "==="
       ]
      },
      {
       "output_type": "stream",
       "stream": "stderr",
       "text": [
        "=="
       ]
      },
      {
       "output_type": "stream",
       "stream": "stderr",
       "text": [
        "==="
       ]
      },
      {
       "output_type": "stream",
       "stream": "stderr",
       "text": [
        "=="
       ]
      },
      {
       "output_type": "stream",
       "stream": "stderr",
       "text": [
        "==="
       ]
      },
      {
       "output_type": "stream",
       "stream": "stderr",
       "text": [
        "=="
       ]
      },
      {
       "output_type": "stream",
       "stream": "stderr",
       "text": [
        "==="
       ]
      },
      {
       "output_type": "stream",
       "stream": "stderr",
       "text": [
        "\n",
        "Getting provenance data from partitioned graph"
       ]
      },
      {
       "output_type": "stream",
       "stream": "stderr",
       "text": [
        "\n",
        "|0                           50%                         100%|\n",
        " "
       ]
      },
      {
       "output_type": "stream",
       "stream": "stderr",
       "text": [
        "="
       ]
      },
      {
       "output_type": "stream",
       "stream": "stderr",
       "text": [
        "="
       ]
      },
      {
       "output_type": "stream",
       "stream": "stderr",
       "text": [
        "="
       ]
      },
      {
       "output_type": "stream",
       "stream": "stderr",
       "text": [
        "="
       ]
      },
      {
       "output_type": "stream",
       "stream": "stderr",
       "text": [
        "="
       ]
      },
      {
       "output_type": "stream",
       "stream": "stderr",
       "text": [
        "="
       ]
      },
      {
       "output_type": "stream",
       "stream": "stderr",
       "text": [
        "="
       ]
      },
      {
       "output_type": "stream",
       "stream": "stderr",
       "text": [
        "="
       ]
      },
      {
       "output_type": "stream",
       "stream": "stderr",
       "text": [
        "="
       ]
      },
      {
       "output_type": "stream",
       "stream": "stderr",
       "text": [
        "="
       ]
      },
      {
       "output_type": "stream",
       "stream": "stderr",
       "text": [
        "="
       ]
      },
      {
       "output_type": "stream",
       "stream": "stderr",
       "text": [
        "="
       ]
      },
      {
       "output_type": "stream",
       "stream": "stderr",
       "text": [
        "="
       ]
      },
      {
       "output_type": "stream",
       "stream": "stderr",
       "text": [
        "="
       ]
      },
      {
       "output_type": "stream",
       "stream": "stderr",
       "text": [
        "="
       ]
      },
      {
       "output_type": "stream",
       "stream": "stderr",
       "text": [
        "="
       ]
      },
      {
       "output_type": "stream",
       "stream": "stderr",
       "text": [
        "="
       ]
      },
      {
       "output_type": "stream",
       "stream": "stderr",
       "text": [
        "="
       ]
      },
      {
       "output_type": "stream",
       "stream": "stderr",
       "text": [
        "="
       ]
      },
      {
       "output_type": "stream",
       "stream": "stderr",
       "text": [
        "="
       ]
      },
      {
       "output_type": "stream",
       "stream": "stderr",
       "text": [
        "="
       ]
      },
      {
       "output_type": "stream",
       "stream": "stderr",
       "text": [
        "="
       ]
      },
      {
       "output_type": "stream",
       "stream": "stderr",
       "text": [
        "="
       ]
      },
      {
       "output_type": "stream",
       "stream": "stderr",
       "text": [
        "="
       ]
      },
      {
       "output_type": "stream",
       "stream": "stderr",
       "text": [
        "="
       ]
      },
      {
       "output_type": "stream",
       "stream": "stderr",
       "text": [
        "="
       ]
      },
      {
       "output_type": "stream",
       "stream": "stderr",
       "text": [
        "="
       ]
      },
      {
       "output_type": "stream",
       "stream": "stderr",
       "text": [
        "="
       ]
      },
      {
       "output_type": "stream",
       "stream": "stderr",
       "text": [
        "="
       ]
      },
      {
       "output_type": "stream",
       "stream": "stderr",
       "text": [
        "="
       ]
      },
      {
       "output_type": "stream",
       "stream": "stderr",
       "text": [
        "="
       ]
      },
      {
       "output_type": "stream",
       "stream": "stderr",
       "text": [
        "="
       ]
      },
      {
       "output_type": "stream",
       "stream": "stderr",
       "text": [
        "="
       ]
      },
      {
       "output_type": "stream",
       "stream": "stderr",
       "text": [
        "="
       ]
      },
      {
       "output_type": "stream",
       "stream": "stderr",
       "text": [
        "="
       ]
      },
      {
       "output_type": "stream",
       "stream": "stderr",
       "text": [
        "="
       ]
      },
      {
       "output_type": "stream",
       "stream": "stderr",
       "text": [
        "="
       ]
      },
      {
       "output_type": "stream",
       "stream": "stderr",
       "text": [
        "="
       ]
      },
      {
       "output_type": "stream",
       "stream": "stderr",
       "text": [
        "="
       ]
      },
      {
       "output_type": "stream",
       "stream": "stderr",
       "text": [
        "="
       ]
      },
      {
       "output_type": "stream",
       "stream": "stderr",
       "text": [
        "="
       ]
      },
      {
       "output_type": "stream",
       "stream": "stderr",
       "text": [
        "="
       ]
      },
      {
       "output_type": "stream",
       "stream": "stderr",
       "text": [
        "="
       ]
      },
      {
       "output_type": "stream",
       "stream": "stderr",
       "text": [
        "="
       ]
      },
      {
       "output_type": "stream",
       "stream": "stderr",
       "text": [
        "="
       ]
      },
      {
       "output_type": "stream",
       "stream": "stderr",
       "text": [
        "="
       ]
      },
      {
       "output_type": "stream",
       "stream": "stderr",
       "text": [
        "="
       ]
      },
      {
       "output_type": "stream",
       "stream": "stderr",
       "text": [
        "="
       ]
      },
      {
       "output_type": "stream",
       "stream": "stderr",
       "text": [
        "="
       ]
      },
      {
       "output_type": "stream",
       "stream": "stderr",
       "text": [
        "="
       ]
      },
      {
       "output_type": "stream",
       "stream": "stderr",
       "text": [
        "="
       ]
      },
      {
       "output_type": "stream",
       "stream": "stderr",
       "text": [
        "="
       ]
      },
      {
       "output_type": "stream",
       "stream": "stderr",
       "text": [
        "="
       ]
      },
      {
       "output_type": "stream",
       "stream": "stderr",
       "text": [
        "="
       ]
      },
      {
       "output_type": "stream",
       "stream": "stderr",
       "text": [
        "="
       ]
      },
      {
       "output_type": "stream",
       "stream": "stderr",
       "text": [
        "="
       ]
      },
      {
       "output_type": "stream",
       "stream": "stderr",
       "text": [
        "="
       ]
      },
      {
       "output_type": "stream",
       "stream": "stderr",
       "text": [
        "="
       ]
      },
      {
       "output_type": "stream",
       "stream": "stderr",
       "text": [
        "="
       ]
      },
      {
       "output_type": "stream",
       "stream": "stderr",
       "text": [
        "="
       ]
      },
      {
       "output_type": "stream",
       "stream": "stderr",
       "text": [
        "\n",
        "Getting provenance data from partitionable graph\n",
        "|0                           50%                         100%|\n",
        " "
       ]
      },
      {
       "output_type": "stream",
       "stream": "stderr",
       "text": [
        "======"
       ]
      },
      {
       "output_type": "stream",
       "stream": "stderr",
       "text": [
        "======="
       ]
      },
      {
       "output_type": "stream",
       "stream": "stderr",
       "text": [
        "======="
       ]
      },
      {
       "output_type": "stream",
       "stream": "stderr",
       "text": [
        "========================================"
       ]
      },
      {
       "output_type": "stream",
       "stream": "stderr",
       "text": [
        "\n",
        "Getting provenance data\n",
        "|0                           50%                         100%|\n",
        " "
       ]
      },
      {
       "output_type": "stream",
       "stream": "stderr",
       "text": [
        "="
       ]
      },
      {
       "output_type": "stream",
       "stream": "stderr",
       "text": [
        "=="
       ]
      },
      {
       "output_type": "stream",
       "stream": "stderr",
       "text": [
        "=="
       ]
      },
      {
       "output_type": "stream",
       "stream": "stderr",
       "text": [
        "=="
       ]
      },
      {
       "output_type": "stream",
       "stream": "stderr",
       "text": [
        "=="
       ]
      },
      {
       "output_type": "stream",
       "stream": "stderr",
       "text": [
        "=="
       ]
      },
      {
       "output_type": "stream",
       "stream": "stderr",
       "text": [
        "=="
       ]
      },
      {
       "output_type": "stream",
       "stream": "stderr",
       "text": [
        "=="
       ]
      },
      {
       "output_type": "stream",
       "stream": "stderr",
       "text": [
        "=="
       ]
      },
      {
       "output_type": "stream",
       "stream": "stderr",
       "text": [
        "=="
       ]
      },
      {
       "output_type": "stream",
       "stream": "stderr",
       "text": [
        "=="
       ]
      },
      {
       "output_type": "stream",
       "stream": "stderr",
       "text": [
        "=="
       ]
      },
      {
       "output_type": "stream",
       "stream": "stderr",
       "text": [
        "=="
       ]
      },
      {
       "output_type": "stream",
       "stream": "stderr",
       "text": [
        "=="
       ]
      },
      {
       "output_type": "stream",
       "stream": "stderr",
       "text": [
        "=="
       ]
      },
      {
       "output_type": "stream",
       "stream": "stderr",
       "text": [
        "="
       ]
      },
      {
       "output_type": "stream",
       "stream": "stderr",
       "text": [
        "=="
       ]
      },
      {
       "output_type": "stream",
       "stream": "stderr",
       "text": [
        "=="
       ]
      },
      {
       "output_type": "stream",
       "stream": "stderr",
       "text": [
        "=="
       ]
      },
      {
       "output_type": "stream",
       "stream": "stderr",
       "text": [
        "=="
       ]
      },
      {
       "output_type": "stream",
       "stream": "stderr",
       "text": [
        "=="
       ]
      },
      {
       "output_type": "stream",
       "stream": "stderr",
       "text": [
        "=="
       ]
      },
      {
       "output_type": "stream",
       "stream": "stderr",
       "text": [
        "=="
       ]
      },
      {
       "output_type": "stream",
       "stream": "stderr",
       "text": [
        "=="
       ]
      },
      {
       "output_type": "stream",
       "stream": "stderr",
       "text": [
        "=="
       ]
      },
      {
       "output_type": "stream",
       "stream": "stderr",
       "text": [
        "=="
       ]
      },
      {
       "output_type": "stream",
       "stream": "stderr",
       "text": [
        "=="
       ]
      },
      {
       "output_type": "stream",
       "stream": "stderr",
       "text": [
        "=="
       ]
      },
      {
       "output_type": "stream",
       "stream": "stderr",
       "text": [
        "=="
       ]
      },
      {
       "output_type": "stream",
       "stream": "stderr",
       "text": [
        "=="
       ]
      },
      {
       "output_type": "stream",
       "stream": "stderr",
       "text": [
        "=="
       ]
      },
      {
       "output_type": "stream",
       "stream": "stderr",
       "text": [
        "\n",
        "Getting Router Provenance\n",
        "|0                           50%                         100%|\n",
        " "
       ]
      },
      {
       "output_type": "stream",
       "stream": "stderr",
       "text": [
        "==============="
       ]
      },
      {
       "output_type": "stream",
       "stream": "stderr",
       "text": [
        "==============="
       ]
      },
      {
       "output_type": "stream",
       "stream": "stderr",
       "text": [
        "=============================="
       ]
      },
      {
       "output_type": "stream",
       "stream": "stderr",
       "text": [
        "\n"
       ]
      }
     ],
     "prompt_number": 6
    },
    {
     "cell_type": "code",
     "collapsed": false,
     "input": [],
     "language": "python",
     "metadata": {},
     "outputs": []
    }
   ],
   "metadata": {}
  }
 ]
}