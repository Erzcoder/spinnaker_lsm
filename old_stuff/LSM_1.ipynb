{
 "cells": [
  {
   "cell_type": "code",
   "execution_count": 15,
   "metadata": {
    "collapsed": false
   },
   "outputs": [],
   "source": [
    "%matplotlib inline\n",
    "\n",
    "import pyNN.nest as sim\n",
    "\n",
    "import numpy\n",
    "from pyNN.utility import get_simulator, init_logging, normalized_filename\n",
    "from pyNN.parameters import Sequence\n",
    "from pyNN.random import RandomDistribution as rnd\n",
    "from pyNN.random import NumpyRNG"
   ]
  },
  {
   "cell_type": "code",
   "execution_count": 29,
   "metadata": {
    "collapsed": false
   },
   "outputs": [],
   "source": [
    "reservoir_size = 200      # Number of cells in the reservoir\n",
    "inhib_rate = 0.2\n",
    "readout_size = 2\n",
    "\n",
    "w = 0.002  # synaptic weight (µS)\n",
    "cell_params = {\n",
    "    'tau_m'      : 20.0,   # (ms)\n",
    "    'tau_syn_E'  : 2.0,    # (ms)\n",
    "    'tau_syn_I'  : 4.0,    # (ms)\n",
    "    'e_rev_E'    : 0.0,    # (mV)\n",
    "    'e_rev_I'    : -70.0,  # (mV)\n",
    "    'tau_refrac' : 2.0,    # (ms)\n",
    "    'v_rest'     : -60.0,  # (mV)\n",
    "    'v_reset'    : -70.0,  # (mV)\n",
    "    'v_thresh'   : -50.0,  # (mV)\n",
    "    'cm'         : 0.5}    # (nF)\n",
    "\n",
    "refractory_period = rnd('uniform', [2.0, 3.0], rng=NumpyRNG(seed=4242))\n",
    "cortex_parameters = {\n",
    "    'cm'         :  0.25, \n",
    "    'tau_m'      :  20.0, \n",
    "    'v_rest'     :  -60, \n",
    "    'v_thresh'   :  -50, \n",
    "    'tau_refrac' :  refractory_period,\n",
    "    'v_reset'    :  -60, \n",
    "    'v_spike'    :  -50.0, \n",
    "    'a'          :  1.0, \n",
    "    'b'          :  0.005, \n",
    "    'tau_w'      :  600, \n",
    "    'delta_T'    :  2.5,\n",
    "    'tau_syn_E'  :  5.0, \n",
    "    'e_rev_E'    :  0.0, \n",
    "    'tau_syn_I'  :  10.0, \n",
    "    'e_rev_I'    :  -80 }\n",
    "dt         = 0.1           # (ms)\n",
    "syn_delay  = 1.0           # (ms)\n",
    "input_rate = 50.0          # (Hz)\n",
    "simtime    = 1000.0        # (ms)"
   ]
  },
  {
   "cell_type": "code",
   "execution_count": 30,
   "metadata": {
    "collapsed": false
   },
   "outputs": [
    {
     "name": "stdout",
     "output_type": "stream",
     "text": [
      "('exh_pop_size: ', 160.0)\n"
     ]
    }
   ],
   "source": [
    "sim.setup()\n",
    "exh_pop_size = reservoir_size*(1-inhib_rate)\n",
    "print('exh_pop_size: ', exh_pop_size)\n",
    "inh_pop_size = reservoir_size*inhib_rate\n",
    "\n",
    "cortical_type = sim.EIF_cond_exp_isfa_ista(**cortex_parameters)\n",
    "naive_type = sim.IF_cond_exp(**cell_params)\n",
    "\n",
    "pE_reservoir = sim.Population(int(exh_pop_size), naive_type,\n",
    "                       initial_values={'v': rnd('uniform', (-60.0, -50.0))},\n",
    "                       label=\"exh_reservoir\")\n",
    "pI_reservoir = sim.Population(int(inh_pop_size), naive_type,\n",
    "                       initial_values={'v': rnd('uniform', (-60.0, -50.0))},\n",
    "                       label=\"inhib_reservoir\")\n",
    "readout_neurons = sim.Population(readout_size, naive_type,\n",
    "                       initial_values={'v': rnd('uniform', (-60.0, -50.0))},\n",
    "                       label=\"readout_neurons\")"
   ]
  },
  {
   "cell_type": "code",
   "execution_count": null,
   "metadata": {
    "collapsed": true
   },
   "outputs": [],
   "source": []
  }
 ],
 "metadata": {
  "kernelspec": {
   "display_name": "Python 2",
   "language": "python",
   "name": "python2"
  },
  "language_info": {
   "codemirror_mode": {
    "name": "ipython",
    "version": 2
   },
   "file_extension": ".py",
   "mimetype": "text/x-python",
   "name": "python",
   "nbconvert_exporter": "python",
   "pygments_lexer": "ipython2",
   "version": "2.7.12"
  }
 },
 "nbformat": 4,
 "nbformat_minor": 0
}
