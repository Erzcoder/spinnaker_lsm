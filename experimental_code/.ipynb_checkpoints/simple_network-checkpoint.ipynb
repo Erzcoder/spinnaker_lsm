{
 "cells": [
  {
   "cell_type": "code",
   "execution_count": 19,
   "metadata": {
    "collapsed": false
   },
   "outputs": [
    {
     "data": {
      "text/plain": [
       "0"
      ]
     },
     "execution_count": 19,
     "metadata": {},
     "output_type": "execute_result"
    }
   ],
   "source": [
    "%matplotlib inline\n",
    "import pyNN.nest as p\n",
    "from pyNN.random import NumpyRNG, RandomDistribution\n",
    "from pyNN.utility import Timer\n",
    "import matplotlib.pyplot as plt\n",
    "import pylab\n",
    "import numpy as np\n",
    "\n",
    "timer = Timer()\n",
    "p.setup(timestep=0.1) # 0.1ms "
   ]
  },
  {
   "cell_type": "code",
   "execution_count": 60,
   "metadata": {
    "collapsed": false
   },
   "outputs": [],
   "source": [
    "pop_1 = p.Population(1,p.IF_curr_exp, {}, label=\"pop_1\")\n",
    "input = p.Population(1, p.SpikeSourceArray, {'spike_times': [[0,3,6]]}, label='input')\n",
    "stat_syn = p.StaticSynapse(weight =50.0, delay=1)\n",
    "input_proj = p.Projection(input, pop_1, p.OneToOneConnector(),synapse_type=stat_syn, receptor_type='excitatory')"
   ]
  },
  {
   "cell_type": "code",
   "execution_count": 61,
   "metadata": {
    "collapsed": false
   },
   "outputs": [],
   "source": [
    "pop_1.record(['v','spikes'])\n",
    "p.run(10)\n",
    "pop_1_data= pop_1.get_data()"
   ]
  },
  {
   "cell_type": "code",
   "execution_count": 62,
   "metadata": {
    "collapsed": false
   },
   "outputs": [
    {
     "data": {
      "text/plain": [
       "<matplotlib.figure.Figure at 0x7f1ac8209d90>"
      ]
     },
     "execution_count": 62,
     "metadata": {},
     "output_type": "execute_result"
    },
    {
     "data": {
      "text/plain": [
       "<matplotlib.figure.Figure at 0x7f1ac8209d90>"
      ]
     },
     "metadata": {},
     "output_type": "display_data"
    }
   ],
   "source": [
    "fig_settings = {\n",
    "    'lines.linewidth': 0.5,\n",
    "    'axes.linewidth': 0.5,\n",
    "    'axes.labelsize': 'small',\n",
    "    'legend.fontsize': 'small',\n",
    "    'font.size': 8\n",
    "}\n",
    "plt.rcParams.update(fig_settings)\n",
    "plt.figure(1, figsize=(6,8))"
   ]
  },
  {
   "cell_type": "code",
   "execution_count": 63,
   "metadata": {
    "collapsed": true
   },
   "outputs": [],
   "source": [
    "def plot_spiketrains(segment):\n",
    "    for spiketrain in segment.spiketrains:\n",
    "        y = np.ones_like(spiketrain) * spiketrain.annotations['source_id']\n",
    "        plt.plot(spiketrain, y, '.')\n",
    "        plt.ylabel(segment.name)\n",
    "        plt.setp(plt.gca().get_xticklabels(), visible=False)"
   ]
  },
  {
   "cell_type": "code",
   "execution_count": 64,
   "metadata": {
    "collapsed": true
   },
   "outputs": [],
   "source": [
    "def plot_signal(signal, index, colour='b'):\n",
    "    label = \"Neuron %d\" % signal.annotations['source_ids'][index]\n",
    "    plt.plot(signal.times, signal[:, index], colour, label=label)\n",
    "    plt.ylabel(\"%s (%s)\" % (signal.name, signal.units._dimensionality.string))\n",
    "    plt.setp(plt.gca().get_xticklabels(), visible=False)\n",
    "    plt.legend()"
   ]
  },
  {
   "cell_type": "code",
   "execution_count": 65,
   "metadata": {
    "collapsed": false
   },
   "outputs": [
    {
     "data": {
      "image/png": "[encoded data removed]",
      "text/plain": [
       "<matplotlib.figure.Figure at 0x7f1ac819e950>"
      ]
     },
     "metadata": {},
     "output_type": "display_data"
    }
   ],
   "source": [
    "n_panels = sum(a.shape[1] for a in pop_1_data.segments[0].analogsignalarrays) + 2\n",
    "plt.subplot(n_panels, 1, 1)\n",
    "plot_spiketrains(pop_1_data.segments[0])\n",
    "panel = 3\n",
    "for array in pop_1_data.segments[0].analogsignalarrays:\n",
    "    for i in range(array.shape[1]):\n",
    "        plt.subplot(n_panels, 1, panel)\n",
    "        plot_signal(array, i, colour='bg'[panel%2])\n",
    "        panel += 1\n",
    "plt.xlabel(\"time (%s)\" % array.times.units._dimensionality.string)\n",
    "plt.setp(plt.gca().get_xticklabels(), visible=True)\n",
    "\n",
    "plt.savefig(\"neo_example.png\")"
   ]
  },
  {
   "cell_type": "code",
   "execution_count": null,
   "metadata": {
    "collapsed": true
   },
   "outputs": [],
   "source": []
  },
  {
   "cell_type": "code",
   "execution_count": null,
   "metadata": {
    "collapsed": true
   },
   "outputs": [],
   "source": []
  }
 ],
 "metadata": {
  "kernelspec": {
   "display_name": "Python 2",
   "language": "python",
   "name": "python2"
  },
  "language_info": {
   "codemirror_mode": {
    "name": "ipython",
    "version": 2
   },
   "file_extension": ".py",
   "mimetype": "text/x-python",
   "name": "python",
   "nbconvert_exporter": "python",
   "pygments_lexer": "ipython2",
   "version": "2.7.12"
  }
 },
 "nbformat": 4,
 "nbformat_minor": 1
}
