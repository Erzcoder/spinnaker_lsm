{
 "metadata": {
  "name": "",
  "signature": "sha256:809d443cccfabc77d39f3db7a3db889c15aa7328756a736f539d728d3b06e32c"
 },
 "nbformat": 3,
 "nbformat_minor": 0,
 "worksheets": [
  {
   "cells": [
    {
     "cell_type": "code",
     "collapsed": false,
     "input": [
      "import socket\n",
      "\n",
      "simulator_name = 'spiNNaker'\n",
      "\n",
      "\n",
      "from spynnaker.pyNN import *\n",
      "import pyNN.spiNNaker as p\n",
      "from pyNN.random import NumpyRNG, RandomDistribution\n",
      "from pyNN.utility import Timer\n",
      "\n",
      "timer = Timer()\n",
      "\n",
      "# === Define parameters ===\n",
      "threads = 1\n",
      "rngseed = 98766987\n",
      "parallel_safe = True\n",
      "stim_dur = 50.    # (ms) duration of random stimulation\n",
      "rate = 100.       # (Hz) frequency of the random stimulation\n",
      "\n",
      "dt = 1.0          # (ms) simulation timestep\n",
      "tstop = 1000      # (ms) simulaton duration\n",
      "delay = 2"
     ],
     "language": "python",
     "metadata": {},
     "outputs": [],
     "prompt_number": 38
    },
    {
     "cell_type": "code",
     "collapsed": false,
     "input": [
      "n = 1500          # number of cells\n",
      "exc_ratio = 0.8   # ratio of excitatory neurons\n",
      "pconn = 0.02      # connection probability\n",
      "\n",
      "n_exc = int(round(n*0.8))\n",
      "n_inh = n-n_exc\n",
      "print n_exc, n_inh\n",
      "\n",
      "# === cell parameters === TODO: \n",
      "v_reset = -60.    # (mV)\n",
      "v_thresh = -50.   # (mV)\n",
      "\n",
      "Gexc = 4.     # (nS)\n",
      "Ginh = 51.    # (nS)\n",
      "w_exc = Gexc * 1e-3              # We convert conductances to uS\n",
      "w_inh = Ginh * 1e-3\n",
      "    \n"
     ],
     "language": "python",
     "metadata": {},
     "outputs": [
      {
       "output_type": "stream",
       "stream": "stdout",
       "text": [
        "1200 300\n"
       ]
      }
     ],
     "prompt_number": 39
    },
    {
     "cell_type": "code",
     "collapsed": false,
     "input": [
      "# === setup connection to SpiNNaker ===\n",
      "\n",
      "extra = {'threads': threads,\n",
      "         'filename': \"Izhikevich_reservoir.xml\",\n",
      "         'label': 'VA'}\n",
      "\n",
      "node_id = setup(timestep=dt, min_delay=delay, max_delay=delay, db_name='Izhikevich_reservoir.sqlite', **extra)\n",
      "\n",
      "if simulator_name == 'spiNNaker':\n",
      "    set_number_of_neurons_per_core('IZK_cond_exp', 50)      # this will set 100 neurons per core\n",
      "\n",
      "node_id = 1\n",
      "np = 1\n",
      "\n",
      "host_name = socket.gethostname()\n",
      "print \"Host #%d is on %s\" % (np, host_name)\n",
      "\n",
      "print \"%s Initialising the simulator with %d thread(s)...\" % (\n",
      "    node_id, extra['threads'])"
     ],
     "language": "python",
     "metadata": {},
     "outputs": [
      {
       "output_type": "stream",
       "stream": "stderr",
       "text": [
        "2016-11-02 13:28:44 WARNING: Extra params has been applied to the setup command which we do not consider\n"
       ]
      },
      {
       "output_type": "stream",
       "stream": "stdout",
       "text": [
        "Host #1 is on nicolas-acer\n",
        "1 Initialising the simulator with 1 thread(s)...\n"
       ]
      }
     ],
     "prompt_number": 40
    },
    {
     "cell_type": "code",
     "collapsed": false,
     "input": [
      "# === Build the network ===\n",
      "\n",
      "celltype = p.IZK_cond_exp\n",
      "cell_params = {'a':0.02, 'b':0.2, 'c':-65, 'd':6, 'i_offset':0.0}\n",
      "\n",
      "print \"%s Creating cell populations...\" % node_id\n",
      "exc_cells = Population(n_exc, celltype, cell_params, label=\"Excitatory_Cells\")\n",
      "inh_cells = Population(n_inh, celltype, cell_params, label=\"Inhibitory_Cells\")\n",
      "\n",
      "print(\"setting up the spike source\")\n",
      "ext_stim = Population(\n",
      "            20, SpikeSourcePoisson,\n",
      "            {'rate': rate, 'duration': stim_dur},\n",
      "            label=\"expoisson\")\n",
      "rconn = 0.01\n",
      "ext_conn = FixedProbabilityConnector(rconn, weights=0.1)\n",
      "ext_stim.record()"
     ],
     "language": "python",
     "metadata": {},
     "outputs": [
      {
       "output_type": "stream",
       "stream": "stdout",
       "text": [
        "1 Creating cell populations...\n",
        "setting up the spike source\n"
       ]
      }
     ],
     "prompt_number": 41
    },
    {
     "cell_type": "code",
     "collapsed": false,
     "input": [
      "print \"%s Initialising membrane potential to random values...\" % node_id\n",
      "\n",
      "rng = NumpyRNG(seed=rngseed, parallel_safe=parallel_safe)\n",
      "uniformDistr = RandomDistribution('uniform', [v_reset, v_thresh], rng=rng)\n",
      "exc_cells.initialize('v', uniformDistr)\n",
      "inh_cells.initialize('v', uniformDistr)"
     ],
     "language": "python",
     "metadata": {},
     "outputs": [
      {
       "output_type": "stream",
       "stream": "stdout",
       "text": [
        "1 Initialising membrane potential to random values...\n"
       ]
      }
     ],
     "prompt_number": 42
    },
    {
     "cell_type": "code",
     "collapsed": false,
     "input": [
      "print \"%s Connecting populations...\" % node_id\n",
      "exc_conn = FixedProbabilityConnector(pconn, weights=w_exc, delays=delay)\n",
      "inh_conn = FixedProbabilityConnector(pconn, weights=w_inh, delays=delay)\n",
      "\n",
      "connections = {}\n",
      "connections['e2e'] = Projection(exc_cells, exc_cells, exc_conn,\n",
      "                                target='excitatory', rng=rng)\n",
      "connections['e2i'] = Projection(exc_cells, inh_cells, exc_conn,\n",
      "                                target='excitatory', rng=rng)\n",
      "connections['i2e'] = Projection(inh_cells, exc_cells, inh_conn,\n",
      "                                target='inhibitory', rng=rng)\n",
      "connections['i2i'] = Projection(inh_cells, inh_cells, inh_conn,\n",
      "                                target='inhibitory', rng=rng)\n",
      "\n",
      "\n",
      "connections['ext2e'] = Projection(ext_stim, exc_cells, ext_conn,\n",
      "                                      target='excitatory')\n",
      "connections['ext2i'] = Projection(ext_stim, inh_cells, ext_conn,\n",
      "                                      target='excitatory')\n"
     ],
     "language": "python",
     "metadata": {},
     "outputs": [
      {
       "output_type": "stream",
       "stream": "stdout",
       "text": [
        "1 Connecting populations...\n"
       ]
      }
     ],
     "prompt_number": 43
    },
    {
     "cell_type": "code",
     "collapsed": false,
     "input": [
      "\n",
      "# === Setup recording ===\n",
      "print \"%s Setting up recording...\" % node_id\n",
      "exc_cells.record()\n",
      "\n",
      "buildCPUTime = timer.diff()\n",
      "\n",
      "# === Run simulation ===\n",
      "print \"%d Running simulation...\" % node_id\n",
      "\n",
      "print \"timings: number of neurons:\", n\n",
      "print \"timings: number of synapses:\", n * n * pconn\n",
      "\n",
      "run(tstop)\n",
      "\n",
      "simCPUTime = timer.diff()\n"
     ],
     "language": "python",
     "metadata": {},
     "outputs": [
      {
       "output_type": "stream",
       "stream": "stderr",
       "text": [
        "Verifying Machine\n",
        "|0                           50%                         100%|\n",
        " "
       ]
      },
      {
       "output_type": "stream",
       "stream": "stderr",
       "text": [
        "======="
       ]
      },
      {
       "output_type": "stream",
       "stream": "stderr",
       "text": [
        "========"
       ]
      },
      {
       "output_type": "stream",
       "stream": "stderr",
       "text": [
        "======="
       ]
      },
      {
       "output_type": "stream",
       "stream": "stderr",
       "text": [
        "========"
       ]
      },
      {
       "output_type": "stream",
       "stream": "stderr",
       "text": [
        "======="
       ]
      },
      {
       "output_type": "stream",
       "stream": "stderr",
       "text": [
        "========"
       ]
      },
      {
       "output_type": "stream",
       "stream": "stderr",
       "text": [
        "======="
       ]
      },
      {
       "output_type": "stream",
       "stream": "stderr",
       "text": [
        "========"
       ]
      },
      {
       "output_type": "stream",
       "stream": "stderr",
       "text": [
        "\n",
        "Allocating virtual identifiers"
       ]
      },
      {
       "output_type": "stream",
       "stream": "stderr",
       "text": [
        "\n",
        "|0                           50%                         100%|\n",
        " "
       ]
      },
      {
       "output_type": "stream",
       "stream": "stderr",
       "text": [
        "========"
       ]
      },
      {
       "output_type": "stream",
       "stream": "stderr",
       "text": [
        "========="
       ]
      },
      {
       "output_type": "stream",
       "stream": "stderr",
       "text": [
        "========"
       ]
      },
      {
       "output_type": "stream",
       "stream": "stderr",
       "text": [
        "========="
       ]
      },
      {
       "output_type": "stream",
       "stream": "stderr",
       "text": [
        "========"
       ]
      },
      {
       "output_type": "stream",
       "stream": "stderr",
       "text": [
        "========="
       ]
      },
      {
       "output_type": "stream",
       "stream": "stderr",
       "text": [
        "========="
       ]
      },
      {
       "output_type": "stream",
       "stream": "stderr",
       "text": [
        "\n",
        "Partitioning graph vertices\n",
        "|0                           50%                         100%|\n",
        " "
       ]
      },
      {
       "output_type": "stream",
       "stream": "stderr",
       "text": [
        "==============================================="
       ]
      },
      {
       "output_type": "stream",
       "stream": "stderr",
       "text": [
        "============"
       ]
      },
      {
       "output_type": "stream",
       "stream": "stderr",
       "text": [
        "="
       ]
      },
      {
       "output_type": "stream",
       "stream": "stderr",
       "text": [
        "\n",
        "Partitioning graph edges\n",
        "|0                           50%                         100%|\n",
        " "
       ]
      },
      {
       "output_type": "stream",
       "stream": "stderr",
       "text": [
        "="
       ]
      },
      {
       "output_type": "stream",
       "stream": "stderr",
       "text": [
        "=="
       ]
      },
      {
       "output_type": "stream",
       "stream": "stderr",
       "text": [
        "=="
       ]
      },
      {
       "output_type": "stream",
       "stream": "stderr",
       "text": [
        "=="
       ]
      },
      {
       "output_type": "stream",
       "stream": "stderr",
       "text": [
        "=="
       ]
      },
      {
       "output_type": "stream",
       "stream": "stderr",
       "text": [
        "=="
       ]
      },
      {
       "output_type": "stream",
       "stream": "stderr",
       "text": [
        "=="
       ]
      },
      {
       "output_type": "stream",
       "stream": "stderr",
       "text": [
        "=="
       ]
      },
      {
       "output_type": "stream",
       "stream": "stderr",
       "text": [
        "=="
       ]
      },
      {
       "output_type": "stream",
       "stream": "stderr",
       "text": [
        "=="
       ]
      },
      {
       "output_type": "stream",
       "stream": "stderr",
       "text": [
        "=="
       ]
      },
      {
       "output_type": "stream",
       "stream": "stderr",
       "text": [
        "=="
       ]
      },
      {
       "output_type": "stream",
       "stream": "stderr",
       "text": [
        "=="
       ]
      },
      {
       "output_type": "stream",
       "stream": "stderr",
       "text": [
        "=="
       ]
      },
      {
       "output_type": "stream",
       "stream": "stderr",
       "text": [
        "=="
       ]
      },
      {
       "output_type": "stream",
       "stream": "stderr",
       "text": [
        "="
       ]
      },
      {
       "output_type": "stream",
       "stream": "stderr",
       "text": [
        "=="
       ]
      },
      {
       "output_type": "stream",
       "stream": "stderr",
       "text": [
        "=="
       ]
      },
      {
       "output_type": "stream",
       "stream": "stderr",
       "text": [
        "=="
       ]
      },
      {
       "output_type": "stream",
       "stream": "stderr",
       "text": [
        "=="
       ]
      },
      {
       "output_type": "stream",
       "stream": "stderr",
       "text": [
        "=="
       ]
      },
      {
       "output_type": "stream",
       "stream": "stderr",
       "text": [
        "=="
       ]
      },
      {
       "output_type": "stream",
       "stream": "stderr",
       "text": [
        "=="
       ]
      },
      {
       "output_type": "stream",
       "stream": "stderr",
       "text": [
        "=="
       ]
      },
      {
       "output_type": "stream",
       "stream": "stderr",
       "text": [
        "=="
       ]
      },
      {
       "output_type": "stream",
       "stream": "stderr",
       "text": [
        "=="
       ]
      },
      {
       "output_type": "stream",
       "stream": "stderr",
       "text": [
        "=="
       ]
      },
      {
       "output_type": "stream",
       "stream": "stderr",
       "text": [
        "=="
       ]
      },
      {
       "output_type": "stream",
       "stream": "stderr",
       "text": [
        "=="
       ]
      },
      {
       "output_type": "stream",
       "stream": "stderr",
       "text": [
        "=="
       ]
      },
      {
       "output_type": "stream",
       "stream": "stderr",
       "text": [
        "=="
       ]
      },
      {
       "output_type": "stream",
       "stream": "stderr",
       "text": [
        "\n",
        "Generating partitioner report\n",
        "|0                           50%                         100%|\n",
        " "
       ]
      },
      {
       "output_type": "stream",
       "stream": "stderr",
       "text": [
        "===================="
       ]
      },
      {
       "output_type": "stream",
       "stream": "stderr",
       "text": [
        "===================="
       ]
      },
      {
       "output_type": "stream",
       "stream": "stderr",
       "text": [
        "===================="
       ]
      },
      {
       "output_type": "stream",
       "stream": "stderr",
       "text": [
        "\n",
        "Filtering edges\n",
        "|0                           50%                         100%|\n",
        " "
       ]
      },
      {
       "output_type": "stream",
       "stream": "stderr",
       "text": [
        "="
       ]
      },
      {
       "output_type": "stream",
       "stream": "stderr",
       "text": [
        "="
       ]
      },
      {
       "output_type": "stream",
       "stream": "stderr",
       "text": [
        "="
       ]
      },
      {
       "output_type": "stream",
       "stream": "stderr",
       "text": [
        "="
       ]
      },
      {
       "output_type": "stream",
       "stream": "stderr",
       "text": [
        "="
       ]
      },
      {
       "output_type": "stream",
       "stream": "stderr",
       "text": [
        "="
       ]
      },
      {
       "output_type": "stream",
       "stream": "stderr",
       "text": [
        "="
       ]
      },
      {
       "output_type": "stream",
       "stream": "stderr",
       "text": [
        "="
       ]
      },
      {
       "output_type": "stream",
       "stream": "stderr",
       "text": [
        "="
       ]
      },
      {
       "output_type": "stream",
       "stream": "stderr",
       "text": [
        "="
       ]
      },
      {
       "output_type": "stream",
       "stream": "stderr",
       "text": [
        "="
       ]
      },
      {
       "output_type": "stream",
       "stream": "stderr",
       "text": [
        "="
       ]
      },
      {
       "output_type": "stream",
       "stream": "stderr",
       "text": [
        "="
       ]
      },
      {
       "output_type": "stream",
       "stream": "stderr",
       "text": [
        "="
       ]
      },
      {
       "output_type": "stream",
       "stream": "stderr",
       "text": [
        "="
       ]
      },
      {
       "output_type": "stream",
       "stream": "stderr",
       "text": [
        "="
       ]
      },
      {
       "output_type": "stream",
       "stream": "stderr",
       "text": [
        "="
       ]
      },
      {
       "output_type": "stream",
       "stream": "stderr",
       "text": [
        "="
       ]
      },
      {
       "output_type": "stream",
       "stream": "stderr",
       "text": [
        "="
       ]
      },
      {
       "output_type": "stream",
       "stream": "stderr",
       "text": [
        "="
       ]
      },
      {
       "output_type": "stream",
       "stream": "stderr",
       "text": [
        "="
       ]
      },
      {
       "output_type": "stream",
       "stream": "stderr",
       "text": [
        "="
       ]
      },
      {
       "output_type": "stream",
       "stream": "stderr",
       "text": [
        "="
       ]
      },
      {
       "output_type": "stream",
       "stream": "stderr",
       "text": [
        "="
       ]
      },
      {
       "output_type": "stream",
       "stream": "stderr",
       "text": [
        "="
       ]
      },
      {
       "output_type": "stream",
       "stream": "stderr",
       "text": [
        "="
       ]
      },
      {
       "output_type": "stream",
       "stream": "stderr",
       "text": [
        "="
       ]
      },
      {
       "output_type": "stream",
       "stream": "stderr",
       "text": [
        "="
       ]
      },
      {
       "output_type": "stream",
       "stream": "stderr",
       "text": [
        "="
       ]
      },
      {
       "output_type": "stream",
       "stream": "stderr",
       "text": [
        "="
       ]
      },
      {
       "output_type": "stream",
       "stream": "stderr",
       "text": [
        "="
       ]
      },
      {
       "output_type": "stream",
       "stream": "stderr",
       "text": [
        "="
       ]
      },
      {
       "output_type": "stream",
       "stream": "stderr",
       "text": [
        "="
       ]
      },
      {
       "output_type": "stream",
       "stream": "stderr",
       "text": [
        "="
       ]
      },
      {
       "output_type": "stream",
       "stream": "stderr",
       "text": [
        "="
       ]
      },
      {
       "output_type": "stream",
       "stream": "stderr",
       "text": [
        "="
       ]
      },
      {
       "output_type": "stream",
       "stream": "stderr",
       "text": [
        "="
       ]
      },
      {
       "output_type": "stream",
       "stream": "stderr",
       "text": [
        "="
       ]
      },
      {
       "output_type": "stream",
       "stream": "stderr",
       "text": [
        "="
       ]
      },
      {
       "output_type": "stream",
       "stream": "stderr",
       "text": [
        "="
       ]
      },
      {
       "output_type": "stream",
       "stream": "stderr",
       "text": [
        "="
       ]
      },
      {
       "output_type": "stream",
       "stream": "stderr",
       "text": [
        "="
       ]
      },
      {
       "output_type": "stream",
       "stream": "stderr",
       "text": [
        "="
       ]
      },
      {
       "output_type": "stream",
       "stream": "stderr",
       "text": [
        "="
       ]
      },
      {
       "output_type": "stream",
       "stream": "stderr",
       "text": [
        "="
       ]
      },
      {
       "output_type": "stream",
       "stream": "stderr",
       "text": [
        "="
       ]
      },
      {
       "output_type": "stream",
       "stream": "stderr",
       "text": [
        "="
       ]
      },
      {
       "output_type": "stream",
       "stream": "stderr",
       "text": [
        "="
       ]
      },
      {
       "output_type": "stream",
       "stream": "stderr",
       "text": [
        "="
       ]
      },
      {
       "output_type": "stream",
       "stream": "stderr",
       "text": [
        "="
       ]
      },
      {
       "output_type": "stream",
       "stream": "stderr",
       "text": [
        "="
       ]
      },
      {
       "output_type": "stream",
       "stream": "stderr",
       "text": [
        "="
       ]
      },
      {
       "output_type": "stream",
       "stream": "stderr",
       "text": [
        "="
       ]
      },
      {
       "output_type": "stream",
       "stream": "stderr",
       "text": [
        "="
       ]
      },
      {
       "output_type": "stream",
       "stream": "stderr",
       "text": [
        "="
       ]
      },
      {
       "output_type": "stream",
       "stream": "stderr",
       "text": [
        "="
       ]
      },
      {
       "output_type": "stream",
       "stream": "stderr",
       "text": [
        "="
       ]
      },
      {
       "output_type": "stream",
       "stream": "stderr",
       "text": [
        "="
       ]
      },
      {
       "output_type": "stream",
       "stream": "stderr",
       "text": [
        "="
       ]
      },
      {
       "output_type": "stream",
       "stream": "stderr",
       "text": [
        "="
       ]
      },
      {
       "output_type": "stream",
       "stream": "stderr",
       "text": [
        "\n",
        "Placing graph vertices\n",
        "|0                           50%                         100%|\n",
        " "
       ]
      },
      {
       "output_type": "stream",
       "stream": "stderr",
       "text": [
        "="
       ]
      },
      {
       "output_type": "stream",
       "stream": "stderr",
       "text": [
        "=="
       ]
      },
      {
       "output_type": "stream",
       "stream": "stderr",
       "text": [
        "=="
       ]
      },
      {
       "output_type": "stream",
       "stream": "stderr",
       "text": [
        "=="
       ]
      },
      {
       "output_type": "stream",
       "stream": "stderr",
       "text": [
        "=="
       ]
      },
      {
       "output_type": "stream",
       "stream": "stderr",
       "text": [
        "=="
       ]
      },
      {
       "output_type": "stream",
       "stream": "stderr",
       "text": [
        "=="
       ]
      },
      {
       "output_type": "stream",
       "stream": "stderr",
       "text": [
        "=="
       ]
      },
      {
       "output_type": "stream",
       "stream": "stderr",
       "text": [
        "=="
       ]
      },
      {
       "output_type": "stream",
       "stream": "stderr",
       "text": [
        "=="
       ]
      },
      {
       "output_type": "stream",
       "stream": "stderr",
       "text": [
        "=="
       ]
      },
      {
       "output_type": "stream",
       "stream": "stderr",
       "text": [
        "=="
       ]
      },
      {
       "output_type": "stream",
       "stream": "stderr",
       "text": [
        "=="
       ]
      },
      {
       "output_type": "stream",
       "stream": "stderr",
       "text": [
        "=="
       ]
      },
      {
       "output_type": "stream",
       "stream": "stderr",
       "text": [
        "=="
       ]
      },
      {
       "output_type": "stream",
       "stream": "stderr",
       "text": [
        "="
       ]
      },
      {
       "output_type": "stream",
       "stream": "stderr",
       "text": [
        "=="
       ]
      },
      {
       "output_type": "stream",
       "stream": "stderr",
       "text": [
        "=="
       ]
      },
      {
       "output_type": "stream",
       "stream": "stderr",
       "text": [
        "=="
       ]
      },
      {
       "output_type": "stream",
       "stream": "stderr",
       "text": [
        "=="
       ]
      },
      {
       "output_type": "stream",
       "stream": "stderr",
       "text": [
        "=="
       ]
      },
      {
       "output_type": "stream",
       "stream": "stderr",
       "text": [
        "=="
       ]
      },
      {
       "output_type": "stream",
       "stream": "stderr",
       "text": [
        "=="
       ]
      },
      {
       "output_type": "stream",
       "stream": "stderr",
       "text": [
        "=="
       ]
      },
      {
       "output_type": "stream",
       "stream": "stderr",
       "text": [
        "=="
       ]
      },
      {
       "output_type": "stream",
       "stream": "stderr",
       "text": [
        "=="
       ]
      },
      {
       "output_type": "stream",
       "stream": "stderr",
       "text": [
        "=="
       ]
      },
      {
       "output_type": "stream",
       "stream": "stderr",
       "text": [
        "=="
       ]
      },
      {
       "output_type": "stream",
       "stream": "stderr",
       "text": [
        "=="
       ]
      },
      {
       "output_type": "stream",
       "stream": "stderr",
       "text": [
        "=="
       ]
      },
      {
       "output_type": "stream",
       "stream": "stderr",
       "text": [
        "=="
       ]
      },
      {
       "output_type": "stream",
       "stream": "stderr",
       "text": [
        "\n",
        "Generating placement report\n",
        "|0                           50%                         100%|\n",
        " "
       ]
      },
      {
       "output_type": "stream",
       "stream": "stderr",
       "text": [
        "===================="
       ]
      },
      {
       "output_type": "stream",
       "stream": "stderr",
       "text": [
        "===================="
       ]
      },
      {
       "output_type": "stream",
       "stream": "stderr",
       "text": [
        "===================="
       ]
      },
      {
       "output_type": "stream",
       "stream": "stderr",
       "text": [
        "\n",
        "Generating placement by core report\n",
        "|0                           50%                         100%|\n",
        " "
       ]
      },
      {
       "output_type": "stream",
       "stream": "stderr",
       "text": [
        "==============="
       ]
      },
      {
       "output_type": "stream",
       "stream": "stderr",
       "text": [
        "==============="
       ]
      },
      {
       "output_type": "stream",
       "stream": "stderr",
       "text": [
        "==============="
       ]
      },
      {
       "output_type": "stream",
       "stream": "stderr",
       "text": [
        "==============="
       ]
      },
      {
       "output_type": "stream",
       "stream": "stderr",
       "text": [
        "\n",
        "Generating SDRAM usage report\n",
        "|0                           50%                         100%|\n",
        " "
       ]
      },
      {
       "output_type": "stream",
       "stream": "stderr",
       "text": [
        "="
       ]
      },
      {
       "output_type": "stream",
       "stream": "stderr",
       "text": [
        "=="
       ]
      },
      {
       "output_type": "stream",
       "stream": "stderr",
       "text": [
        "=="
       ]
      },
      {
       "output_type": "stream",
       "stream": "stderr",
       "text": [
        "="
       ]
      },
      {
       "output_type": "stream",
       "stream": "stderr",
       "text": [
        "=="
       ]
      },
      {
       "output_type": "stream",
       "stream": "stderr",
       "text": [
        "=="
       ]
      },
      {
       "output_type": "stream",
       "stream": "stderr",
       "text": [
        "=="
       ]
      },
      {
       "output_type": "stream",
       "stream": "stderr",
       "text": [
        "="
       ]
      },
      {
       "output_type": "stream",
       "stream": "stderr",
       "text": [
        "=="
       ]
      },
      {
       "output_type": "stream",
       "stream": "stderr",
       "text": [
        "=="
       ]
      },
      {
       "output_type": "stream",
       "stream": "stderr",
       "text": [
        "="
       ]
      },
      {
       "output_type": "stream",
       "stream": "stderr",
       "text": [
        "=="
       ]
      },
      {
       "output_type": "stream",
       "stream": "stderr",
       "text": [
        "=="
       ]
      },
      {
       "output_type": "stream",
       "stream": "stderr",
       "text": [
        "=="
       ]
      },
      {
       "output_type": "stream",
       "stream": "stderr",
       "text": [
        "="
       ]
      },
      {
       "output_type": "stream",
       "stream": "stderr",
       "text": [
        "=="
       ]
      },
      {
       "output_type": "stream",
       "stream": "stderr",
       "text": [
        "=="
       ]
      },
      {
       "output_type": "stream",
       "stream": "stderr",
       "text": [
        "="
       ]
      },
      {
       "output_type": "stream",
       "stream": "stderr",
       "text": [
        "=="
       ]
      },
      {
       "output_type": "stream",
       "stream": "stderr",
       "text": [
        "=="
       ]
      },
      {
       "output_type": "stream",
       "stream": "stderr",
       "text": [
        "=="
       ]
      },
      {
       "output_type": "stream",
       "stream": "stderr",
       "text": [
        "="
       ]
      },
      {
       "output_type": "stream",
       "stream": "stderr",
       "text": [
        "=="
       ]
      },
      {
       "output_type": "stream",
       "stream": "stderr",
       "text": [
        "=="
       ]
      },
      {
       "output_type": "stream",
       "stream": "stderr",
       "text": [
        "="
       ]
      },
      {
       "output_type": "stream",
       "stream": "stderr",
       "text": [
        "=="
       ]
      },
      {
       "output_type": "stream",
       "stream": "stderr",
       "text": [
        "=="
       ]
      },
      {
       "output_type": "stream",
       "stream": "stderr",
       "text": [
        "=="
       ]
      },
      {
       "output_type": "stream",
       "stream": "stderr",
       "text": [
        "="
       ]
      },
      {
       "output_type": "stream",
       "stream": "stderr",
       "text": [
        "=="
       ]
      },
      {
       "output_type": "stream",
       "stream": "stderr",
       "text": [
        "=="
       ]
      },
      {
       "output_type": "stream",
       "stream": "stderr",
       "text": [
        "="
       ]
      },
      {
       "output_type": "stream",
       "stream": "stderr",
       "text": [
        "=="
       ]
      },
      {
       "output_type": "stream",
       "stream": "stderr",
       "text": [
        "===="
       ]
      },
      {
       "output_type": "stream",
       "stream": "stderr",
       "text": [
        "\n",
        "Routing\n",
        "|0                           50%                         100%|\n",
        " "
       ]
      },
      {
       "output_type": "stream",
       "stream": "stderr",
       "text": [
        "======="
       ]
      },
      {
       "output_type": "stream",
       "stream": "stderr",
       "text": [
        "========"
       ]
      },
      {
       "output_type": "stream",
       "stream": "stderr",
       "text": [
        "======="
       ]
      },
      {
       "output_type": "stream",
       "stream": "stderr",
       "text": [
        "========"
       ]
      },
      {
       "output_type": "stream",
       "stream": "stderr",
       "text": [
        "======="
       ]
      },
      {
       "output_type": "stream",
       "stream": "stderr",
       "text": [
        "========"
       ]
      },
      {
       "output_type": "stream",
       "stream": "stderr",
       "text": [
        "======="
       ]
      },
      {
       "output_type": "stream",
       "stream": "stderr",
       "text": [
        "========"
       ]
      },
      {
       "output_type": "stream",
       "stream": "stderr",
       "text": [
        "\n",
        "Allocating tags\n",
        "|0                           50%                         100%|\n",
        " "
       ]
      },
      {
       "output_type": "stream",
       "stream": "stderr",
       "text": [
        "="
       ]
      },
      {
       "output_type": "stream",
       "stream": "stderr",
       "text": [
        "=="
       ]
      },
      {
       "output_type": "stream",
       "stream": "stderr",
       "text": [
        "=="
       ]
      },
      {
       "output_type": "stream",
       "stream": "stderr",
       "text": [
        "=="
       ]
      },
      {
       "output_type": "stream",
       "stream": "stderr",
       "text": [
        "=="
       ]
      },
      {
       "output_type": "stream",
       "stream": "stderr",
       "text": [
        "=="
       ]
      },
      {
       "output_type": "stream",
       "stream": "stderr",
       "text": [
        "=="
       ]
      },
      {
       "output_type": "stream",
       "stream": "stderr",
       "text": [
        "=="
       ]
      },
      {
       "output_type": "stream",
       "stream": "stderr",
       "text": [
        "=="
       ]
      },
      {
       "output_type": "stream",
       "stream": "stderr",
       "text": [
        "=="
       ]
      },
      {
       "output_type": "stream",
       "stream": "stderr",
       "text": [
        "=="
       ]
      },
      {
       "output_type": "stream",
       "stream": "stderr",
       "text": [
        "=="
       ]
      },
      {
       "output_type": "stream",
       "stream": "stderr",
       "text": [
        "=="
       ]
      },
      {
       "output_type": "stream",
       "stream": "stderr",
       "text": [
        "=="
       ]
      },
      {
       "output_type": "stream",
       "stream": "stderr",
       "text": [
        "=="
       ]
      },
      {
       "output_type": "stream",
       "stream": "stderr",
       "text": [
        "="
       ]
      },
      {
       "output_type": "stream",
       "stream": "stderr",
       "text": [
        "=="
       ]
      },
      {
       "output_type": "stream",
       "stream": "stderr",
       "text": [
        "=="
       ]
      },
      {
       "output_type": "stream",
       "stream": "stderr",
       "text": [
        "=="
       ]
      },
      {
       "output_type": "stream",
       "stream": "stderr",
       "text": [
        "=="
       ]
      },
      {
       "output_type": "stream",
       "stream": "stderr",
       "text": [
        "=="
       ]
      },
      {
       "output_type": "stream",
       "stream": "stderr",
       "text": [
        "=="
       ]
      },
      {
       "output_type": "stream",
       "stream": "stderr",
       "text": [
        "=="
       ]
      },
      {
       "output_type": "stream",
       "stream": "stderr",
       "text": [
        "=="
       ]
      },
      {
       "output_type": "stream",
       "stream": "stderr",
       "text": [
        "=="
       ]
      },
      {
       "output_type": "stream",
       "stream": "stderr",
       "text": [
        "=="
       ]
      },
      {
       "output_type": "stream",
       "stream": "stderr",
       "text": [
        "=="
       ]
      },
      {
       "output_type": "stream",
       "stream": "stderr",
       "text": [
        "=="
       ]
      },
      {
       "output_type": "stream",
       "stream": "stderr",
       "text": [
        "=="
       ]
      },
      {
       "output_type": "stream",
       "stream": "stderr",
       "text": [
        "=="
       ]
      },
      {
       "output_type": "stream",
       "stream": "stderr",
       "text": [
        "=="
       ]
      },
      {
       "output_type": "stream",
       "stream": "stderr",
       "text": [
        "\n",
        "Reporting Tags\n",
        "|0                           50%                         100%|\n",
        " ============================================================"
       ]
      },
      {
       "output_type": "stream",
       "stream": "stderr",
       "text": [
        "\n",
        "Deducing edge to number of keys map\n",
        "|0                           50%                         100%|\n",
        " "
       ]
      },
      {
       "output_type": "stream",
       "stream": "stderr",
       "text": [
        "="
       ]
      },
      {
       "output_type": "stream",
       "stream": "stderr",
       "text": [
        "=="
       ]
      },
      {
       "output_type": "stream",
       "stream": "stderr",
       "text": [
        "=="
       ]
      },
      {
       "output_type": "stream",
       "stream": "stderr",
       "text": [
        "=="
       ]
      },
      {
       "output_type": "stream",
       "stream": "stderr",
       "text": [
        "=="
       ]
      },
      {
       "output_type": "stream",
       "stream": "stderr",
       "text": [
        "=="
       ]
      },
      {
       "output_type": "stream",
       "stream": "stderr",
       "text": [
        "=="
       ]
      },
      {
       "output_type": "stream",
       "stream": "stderr",
       "text": [
        "=="
       ]
      },
      {
       "output_type": "stream",
       "stream": "stderr",
       "text": [
        "=="
       ]
      },
      {
       "output_type": "stream",
       "stream": "stderr",
       "text": [
        "=="
       ]
      },
      {
       "output_type": "stream",
       "stream": "stderr",
       "text": [
        "=="
       ]
      },
      {
       "output_type": "stream",
       "stream": "stderr",
       "text": [
        "=="
       ]
      },
      {
       "output_type": "stream",
       "stream": "stderr",
       "text": [
        "=="
       ]
      },
      {
       "output_type": "stream",
       "stream": "stderr",
       "text": [
        "=="
       ]
      },
      {
       "output_type": "stream",
       "stream": "stderr",
       "text": [
        "=="
       ]
      },
      {
       "output_type": "stream",
       "stream": "stderr",
       "text": [
        "="
       ]
      },
      {
       "output_type": "stream",
       "stream": "stderr",
       "text": [
        "=="
       ]
      },
      {
       "output_type": "stream",
       "stream": "stderr",
       "text": [
        "=="
       ]
      },
      {
       "output_type": "stream",
       "stream": "stderr",
       "text": [
        "=="
       ]
      },
      {
       "output_type": "stream",
       "stream": "stderr",
       "text": [
        "=="
       ]
      },
      {
       "output_type": "stream",
       "stream": "stderr",
       "text": [
        "=="
       ]
      },
      {
       "output_type": "stream",
       "stream": "stderr",
       "text": [
        "=="
       ]
      },
      {
       "output_type": "stream",
       "stream": "stderr",
       "text": [
        "=="
       ]
      },
      {
       "output_type": "stream",
       "stream": "stderr",
       "text": [
        "=="
       ]
      },
      {
       "output_type": "stream",
       "stream": "stderr",
       "text": [
        "=="
       ]
      },
      {
       "output_type": "stream",
       "stream": "stderr",
       "text": [
        "=="
       ]
      },
      {
       "output_type": "stream",
       "stream": "stderr",
       "text": [
        "=="
       ]
      },
      {
       "output_type": "stream",
       "stream": "stderr",
       "text": [
        "=="
       ]
      },
      {
       "output_type": "stream",
       "stream": "stderr",
       "text": [
        "=="
       ]
      },
      {
       "output_type": "stream",
       "stream": "stderr",
       "text": [
        "=="
       ]
      },
      {
       "output_type": "stream",
       "stream": "stderr",
       "text": [
        "=="
       ]
      },
      {
       "output_type": "stream",
       "stream": "stderr",
       "text": [
        "\n",
        "Allocating routing keys\n",
        "|0                           50%                         100%|\n",
        " "
       ]
      },
      {
       "output_type": "stream",
       "stream": "stderr",
       "text": [
        "============================================================"
       ]
      },
      {
       "output_type": "stream",
       "stream": "stderr",
       "text": [
        "\n",
        "Generating Routing info report\n",
        "|0                           50%                         100%|\n",
        " "
       ]
      },
      {
       "output_type": "stream",
       "stream": "stderr",
       "text": [
        "="
       ]
      },
      {
       "output_type": "stream",
       "stream": "stderr",
       "text": [
        "=="
       ]
      },
      {
       "output_type": "stream",
       "stream": "stderr",
       "text": [
        "=="
       ]
      },
      {
       "output_type": "stream",
       "stream": "stderr",
       "text": [
        "=="
       ]
      },
      {
       "output_type": "stream",
       "stream": "stderr",
       "text": [
        "=="
       ]
      },
      {
       "output_type": "stream",
       "stream": "stderr",
       "text": [
        "=="
       ]
      },
      {
       "output_type": "stream",
       "stream": "stderr",
       "text": [
        "=="
       ]
      },
      {
       "output_type": "stream",
       "stream": "stderr",
       "text": [
        "=="
       ]
      },
      {
       "output_type": "stream",
       "stream": "stderr",
       "text": [
        "=="
       ]
      },
      {
       "output_type": "stream",
       "stream": "stderr",
       "text": [
        "=="
       ]
      },
      {
       "output_type": "stream",
       "stream": "stderr",
       "text": [
        "=="
       ]
      },
      {
       "output_type": "stream",
       "stream": "stderr",
       "text": [
        "=="
       ]
      },
      {
       "output_type": "stream",
       "stream": "stderr",
       "text": [
        "=="
       ]
      },
      {
       "output_type": "stream",
       "stream": "stderr",
       "text": [
        "=="
       ]
      },
      {
       "output_type": "stream",
       "stream": "stderr",
       "text": [
        "=="
       ]
      },
      {
       "output_type": "stream",
       "stream": "stderr",
       "text": [
        "="
       ]
      },
      {
       "output_type": "stream",
       "stream": "stderr",
       "text": [
        "=="
       ]
      },
      {
       "output_type": "stream",
       "stream": "stderr",
       "text": [
        "=="
       ]
      },
      {
       "output_type": "stream",
       "stream": "stderr",
       "text": [
        "=="
       ]
      },
      {
       "output_type": "stream",
       "stream": "stderr",
       "text": [
        "=="
       ]
      },
      {
       "output_type": "stream",
       "stream": "stderr",
       "text": [
        "=="
       ]
      },
      {
       "output_type": "stream",
       "stream": "stderr",
       "text": [
        "=="
       ]
      },
      {
       "output_type": "stream",
       "stream": "stderr",
       "text": [
        "=="
       ]
      },
      {
       "output_type": "stream",
       "stream": "stderr",
       "text": [
        "=="
       ]
      },
      {
       "output_type": "stream",
       "stream": "stderr",
       "text": [
        "=="
       ]
      },
      {
       "output_type": "stream",
       "stream": "stderr",
       "text": [
        "=="
       ]
      },
      {
       "output_type": "stream",
       "stream": "stderr",
       "text": [
        "=="
       ]
      },
      {
       "output_type": "stream",
       "stream": "stderr",
       "text": [
        "=="
       ]
      },
      {
       "output_type": "stream",
       "stream": "stderr",
       "text": [
        "=="
       ]
      },
      {
       "output_type": "stream",
       "stream": "stderr",
       "text": [
        "=="
       ]
      },
      {
       "output_type": "stream",
       "stream": "stderr",
       "text": [
        "=="
       ]
      },
      {
       "output_type": "stream",
       "stream": "stderr",
       "text": [
        "\n",
        "Generating routing tables\n",
        "|0                           50%                         100%|\n",
        " "
       ]
      },
      {
       "output_type": "stream",
       "stream": "stderr",
       "text": [
        "==============="
       ]
      },
      {
       "output_type": "stream",
       "stream": "stderr",
       "text": [
        "==============="
       ]
      },
      {
       "output_type": "stream",
       "stream": "stderr",
       "text": [
        "==============="
       ]
      },
      {
       "output_type": "stream",
       "stream": "stderr",
       "text": [
        "==============="
       ]
      },
      {
       "output_type": "stream",
       "stream": "stderr",
       "text": [
        "\n",
        "Generating Router table report\n",
        "|0                           50%                         100%|\n",
        " "
       ]
      },
      {
       "output_type": "stream",
       "stream": "stderr",
       "text": [
        "=============================="
       ]
      },
      {
       "output_type": "stream",
       "stream": "stderr",
       "text": [
        "=============================="
       ]
      },
      {
       "output_type": "stream",
       "stream": "stderr",
       "text": [
        "\n",
        "Compressing routing Tables\n",
        "|0                           50%                         100%|\n",
        " "
       ]
      },
      {
       "output_type": "stream",
       "stream": "stderr",
       "text": [
        "=============================="
       ]
      },
      {
       "output_type": "stream",
       "stream": "stderr",
       "text": [
        "=============================="
       ]
      },
      {
       "output_type": "stream",
       "stream": "stderr",
       "text": [
        "\n",
        "Generating compressed router table report\n",
        "|0                           50%                         100%|\n",
        " "
       ]
      },
      {
       "output_type": "stream",
       "stream": "stderr",
       "text": [
        "=============================="
       ]
      },
      {
       "output_type": "stream",
       "stream": "stderr",
       "text": [
        "=============================="
       ]
      },
      {
       "output_type": "stream",
       "stream": "stderr",
       "text": [
        "\n",
        "Generating comparison of router table report\n",
        "|0                           50%                         100%|\n",
        " "
       ]
      },
      {
       "output_type": "stream",
       "stream": "stderr",
       "text": [
        "=============================="
       ]
      },
      {
       "output_type": "stream",
       "stream": "stderr",
       "text": [
        "=============================="
       ]
      },
      {
       "output_type": "stream",
       "stream": "stderr",
       "text": [
        "\n",
        "Generating sPyNNaker data specifications\n",
        "|0                           50%                         100%|\n",
        " "
       ]
      },
      {
       "output_type": "stream",
       "stream": "stderr",
       "text": [
        "="
       ]
      },
      {
       "output_type": "stream",
       "stream": "stderr",
       "text": [
        "=="
       ]
      },
      {
       "output_type": "stream",
       "stream": "stderr",
       "text": [
        "=="
       ]
      },
      {
       "output_type": "stream",
       "stream": "stderr",
       "text": [
        "=="
       ]
      },
      {
       "output_type": "stream",
       "stream": "stderr",
       "text": [
        "=="
       ]
      },
      {
       "output_type": "stream",
       "stream": "stderr",
       "text": [
        "=="
       ]
      },
      {
       "output_type": "stream",
       "stream": "stderr",
       "text": [
        "=="
       ]
      },
      {
       "output_type": "stream",
       "stream": "stderr",
       "text": [
        "=="
       ]
      },
      {
       "output_type": "stream",
       "stream": "stderr",
       "text": [
        "=="
       ]
      },
      {
       "output_type": "stream",
       "stream": "stderr",
       "text": [
        "=="
       ]
      },
      {
       "output_type": "stream",
       "stream": "stderr",
       "text": [
        "=="
       ]
      },
      {
       "output_type": "stream",
       "stream": "stderr",
       "text": [
        "=="
       ]
      },
      {
       "output_type": "stream",
       "stream": "stderr",
       "text": [
        "=="
       ]
      },
      {
       "output_type": "stream",
       "stream": "stderr",
       "text": [
        "=="
       ]
      },
      {
       "output_type": "stream",
       "stream": "stderr",
       "text": [
        "=="
       ]
      },
      {
       "output_type": "stream",
       "stream": "stderr",
       "text": [
        "="
       ]
      },
      {
       "output_type": "stream",
       "stream": "stderr",
       "text": [
        "=="
       ]
      },
      {
       "output_type": "stream",
       "stream": "stderr",
       "text": [
        "=="
       ]
      },
      {
       "output_type": "stream",
       "stream": "stderr",
       "text": [
        "=="
       ]
      },
      {
       "output_type": "stream",
       "stream": "stderr",
       "text": [
        "=="
       ]
      },
      {
       "output_type": "stream",
       "stream": "stderr",
       "text": [
        "=="
       ]
      },
      {
       "output_type": "stream",
       "stream": "stderr",
       "text": [
        "=="
       ]
      },
      {
       "output_type": "stream",
       "stream": "stderr",
       "text": [
        "=="
       ]
      },
      {
       "output_type": "stream",
       "stream": "stderr",
       "text": [
        "=="
       ]
      },
      {
       "output_type": "stream",
       "stream": "stderr",
       "text": [
        "=="
       ]
      },
      {
       "output_type": "stream",
       "stream": "stderr",
       "text": [
        "=="
       ]
      },
      {
       "output_type": "stream",
       "stream": "stderr",
       "text": [
        "=="
       ]
      },
      {
       "output_type": "stream",
       "stream": "stderr",
       "text": [
        "=="
       ]
      },
      {
       "output_type": "stream",
       "stream": "stderr",
       "text": [
        "=="
       ]
      },
      {
       "output_type": "stream",
       "stream": "stderr",
       "text": [
        "=="
       ]
      },
      {
       "output_type": "stream",
       "stream": "stderr",
       "text": [
        "=="
       ]
      },
      {
       "output_type": "stream",
       "stream": "stderr",
       "text": [
        "\n",
        "Loading routing data onto the machine\n",
        "|0                           50%                         100%|\n",
        " "
       ]
      },
      {
       "output_type": "stream",
       "stream": "stderr",
       "text": [
        "=============================="
       ]
      },
      {
       "output_type": "stream",
       "stream": "stderr",
       "text": [
        "=============================="
       ]
      },
      {
       "output_type": "stream",
       "stream": "stderr",
       "text": [
        "\n",
        "Clearing tags\n",
        "|0                           50%                         100%|\n",
        " "
       ]
      },
      {
       "output_type": "stream",
       "stream": "stderr",
       "text": [
        "========"
       ]
      },
      {
       "output_type": "stream",
       "stream": "stderr",
       "text": [
        "========="
       ]
      },
      {
       "output_type": "stream",
       "stream": "stderr",
       "text": [
        "========"
       ]
      },
      {
       "output_type": "stream",
       "stream": "stderr",
       "text": [
        "========="
       ]
      },
      {
       "output_type": "stream",
       "stream": "stderr",
       "text": [
        "========"
       ]
      },
      {
       "output_type": "stream",
       "stream": "stderr",
       "text": [
        "========="
       ]
      },
      {
       "output_type": "stream",
       "stream": "stderr",
       "text": [
        "========="
       ]
      },
      {
       "output_type": "stream",
       "stream": "stderr",
       "text": [
        "\n",
        "Loading Tags\n",
        "|0                           50%                         100%|\n",
        " ============================================================"
       ]
      },
      {
       "output_type": "stream",
       "stream": "stderr",
       "text": [
        "\n",
        "Executing data specifications and loading data\n",
        "|0                           50%                         100%|\n",
        " "
       ]
      },
      {
       "output_type": "stream",
       "stream": "stderr",
       "text": [
        "="
       ]
      },
      {
       "output_type": "stream",
       "stream": "stderr",
       "text": [
        "=="
       ]
      },
      {
       "output_type": "stream",
       "stream": "stderr",
       "text": [
        "=="
       ]
      },
      {
       "output_type": "stream",
       "stream": "stderr",
       "text": [
        "=="
       ]
      },
      {
       "output_type": "stream",
       "stream": "stderr",
       "text": [
        "=="
       ]
      },
      {
       "output_type": "stream",
       "stream": "stderr",
       "text": [
        "=="
       ]
      },
      {
       "output_type": "stream",
       "stream": "stderr",
       "text": [
        "=="
       ]
      },
      {
       "output_type": "stream",
       "stream": "stderr",
       "text": [
        "=="
       ]
      },
      {
       "output_type": "stream",
       "stream": "stderr",
       "text": [
        "=="
       ]
      },
      {
       "output_type": "stream",
       "stream": "stderr",
       "text": [
        "=="
       ]
      },
      {
       "output_type": "stream",
       "stream": "stderr",
       "text": [
        "=="
       ]
      },
      {
       "output_type": "stream",
       "stream": "stderr",
       "text": [
        "=="
       ]
      },
      {
       "output_type": "stream",
       "stream": "stderr",
       "text": [
        "=="
       ]
      },
      {
       "output_type": "stream",
       "stream": "stderr",
       "text": [
        "=="
       ]
      },
      {
       "output_type": "stream",
       "stream": "stderr",
       "text": [
        "=="
       ]
      },
      {
       "output_type": "stream",
       "stream": "stderr",
       "text": [
        "="
       ]
      },
      {
       "output_type": "stream",
       "stream": "stderr",
       "text": [
        "=="
       ]
      },
      {
       "output_type": "stream",
       "stream": "stderr",
       "text": [
        "=="
       ]
      },
      {
       "output_type": "stream",
       "stream": "stderr",
       "text": [
        "=="
       ]
      },
      {
       "output_type": "stream",
       "stream": "stderr",
       "text": [
        "=="
       ]
      },
      {
       "output_type": "stream",
       "stream": "stderr",
       "text": [
        "=="
       ]
      },
      {
       "output_type": "stream",
       "stream": "stderr",
       "text": [
        "=="
       ]
      },
      {
       "output_type": "stream",
       "stream": "stderr",
       "text": [
        "=="
       ]
      },
      {
       "output_type": "stream",
       "stream": "stderr",
       "text": [
        "=="
       ]
      },
      {
       "output_type": "stream",
       "stream": "stderr",
       "text": [
        "=="
       ]
      },
      {
       "output_type": "stream",
       "stream": "stderr",
       "text": [
        "=="
       ]
      },
      {
       "output_type": "stream",
       "stream": "stderr",
       "text": [
        "=="
       ]
      },
      {
       "output_type": "stream",
       "stream": "stderr",
       "text": [
        "=="
       ]
      },
      {
       "output_type": "stream",
       "stream": "stderr",
       "text": [
        "=="
       ]
      },
      {
       "output_type": "stream",
       "stream": "stderr",
       "text": [
        "=="
       ]
      },
      {
       "output_type": "stream",
       "stream": "stderr",
       "text": [
        "=="
       ]
      },
      {
       "output_type": "stream",
       "stream": "stderr",
       "text": [
        "\n",
        "Loading executables onto the machine\n",
        "|0                           50%                         100%|\n",
        " "
       ]
      },
      {
       "output_type": "stream",
       "stream": "stderr",
       "text": [
        "="
       ]
      },
      {
       "output_type": "stream",
       "stream": "stderr",
       "text": [
        "==========================================================="
       ]
      },
      {
       "output_type": "stream",
       "stream": "stderr",
       "text": [
        "\n",
        "Initialising buffers\n",
        "|0                           50%                         100%|\n",
        " "
       ]
      },
      {
       "output_type": "stream",
       "stream": "stderr",
       "text": [
        "="
       ]
      },
      {
       "output_type": "stream",
       "stream": "stderr",
       "text": [
        "=="
       ]
      },
      {
       "output_type": "stream",
       "stream": "stderr",
       "text": [
        "=="
       ]
      },
      {
       "output_type": "stream",
       "stream": "stderr",
       "text": [
        "=="
       ]
      },
      {
       "output_type": "stream",
       "stream": "stderr",
       "text": [
        "=="
       ]
      },
      {
       "output_type": "stream",
       "stream": "stderr",
       "text": [
        "=="
       ]
      },
      {
       "output_type": "stream",
       "stream": "stderr",
       "text": [
        "=="
       ]
      },
      {
       "output_type": "stream",
       "stream": "stderr",
       "text": [
        "=="
       ]
      },
      {
       "output_type": "stream",
       "stream": "stderr",
       "text": [
        "=="
       ]
      },
      {
       "output_type": "stream",
       "stream": "stderr",
       "text": [
        "=="
       ]
      },
      {
       "output_type": "stream",
       "stream": "stderr",
       "text": [
        "=="
       ]
      },
      {
       "output_type": "stream",
       "stream": "stderr",
       "text": [
        "=="
       ]
      },
      {
       "output_type": "stream",
       "stream": "stderr",
       "text": [
        "=="
       ]
      },
      {
       "output_type": "stream",
       "stream": "stderr",
       "text": [
        "=="
       ]
      },
      {
       "output_type": "stream",
       "stream": "stderr",
       "text": [
        "=="
       ]
      },
      {
       "output_type": "stream",
       "stream": "stderr",
       "text": [
        "="
       ]
      },
      {
       "output_type": "stream",
       "stream": "stderr",
       "text": [
        "=="
       ]
      },
      {
       "output_type": "stream",
       "stream": "stderr",
       "text": [
        "=="
       ]
      },
      {
       "output_type": "stream",
       "stream": "stderr",
       "text": [
        "=="
       ]
      },
      {
       "output_type": "stream",
       "stream": "stderr",
       "text": [
        "=="
       ]
      },
      {
       "output_type": "stream",
       "stream": "stderr",
       "text": [
        "=="
       ]
      },
      {
       "output_type": "stream",
       "stream": "stderr",
       "text": [
        "=="
       ]
      },
      {
       "output_type": "stream",
       "stream": "stderr",
       "text": [
        "=="
       ]
      },
      {
       "output_type": "stream",
       "stream": "stderr",
       "text": [
        "=="
       ]
      },
      {
       "output_type": "stream",
       "stream": "stderr",
       "text": [
        "=="
       ]
      },
      {
       "output_type": "stream",
       "stream": "stderr",
       "text": [
        "=="
       ]
      },
      {
       "output_type": "stream",
       "stream": "stderr",
       "text": [
        "=="
       ]
      },
      {
       "output_type": "stream",
       "stream": "stderr",
       "text": [
        "=="
       ]
      },
      {
       "output_type": "stream",
       "stream": "stderr",
       "text": [
        "=="
       ]
      },
      {
       "output_type": "stream",
       "stream": "stderr",
       "text": [
        "=="
       ]
      },
      {
       "output_type": "stream",
       "stream": "stderr",
       "text": [
        "=="
       ]
      },
      {
       "output_type": "stream",
       "stream": "stderr",
       "text": [
        "\n",
        "Updating run time\n",
        "|0                           50%                         100%|\n",
        " "
       ]
      },
      {
       "output_type": "stream",
       "stream": "stderr",
       "text": [
        "="
       ]
      },
      {
       "output_type": "stream",
       "stream": "stderr",
       "text": [
        "=="
       ]
      },
      {
       "output_type": "stream",
       "stream": "stderr",
       "text": [
        "=="
       ]
      },
      {
       "output_type": "stream",
       "stream": "stderr",
       "text": [
        "=="
       ]
      },
      {
       "output_type": "stream",
       "stream": "stderr",
       "text": [
        "=="
       ]
      },
      {
       "output_type": "stream",
       "stream": "stderr",
       "text": [
        "=="
       ]
      },
      {
       "output_type": "stream",
       "stream": "stderr",
       "text": [
        "=="
       ]
      },
      {
       "output_type": "stream",
       "stream": "stderr",
       "text": [
        "=="
       ]
      },
      {
       "output_type": "stream",
       "stream": "stderr",
       "text": [
        "=="
       ]
      },
      {
       "output_type": "stream",
       "stream": "stderr",
       "text": [
        "=="
       ]
      },
      {
       "output_type": "stream",
       "stream": "stderr",
       "text": [
        "=="
       ]
      },
      {
       "output_type": "stream",
       "stream": "stderr",
       "text": [
        "=="
       ]
      },
      {
       "output_type": "stream",
       "stream": "stderr",
       "text": [
        "=="
       ]
      },
      {
       "output_type": "stream",
       "stream": "stderr",
       "text": [
        "=="
       ]
      },
      {
       "output_type": "stream",
       "stream": "stderr",
       "text": [
        "=="
       ]
      },
      {
       "output_type": "stream",
       "stream": "stderr",
       "text": [
        "="
       ]
      },
      {
       "output_type": "stream",
       "stream": "stderr",
       "text": [
        "=="
       ]
      },
      {
       "output_type": "stream",
       "stream": "stderr",
       "text": [
        "=="
       ]
      },
      {
       "output_type": "stream",
       "stream": "stderr",
       "text": [
        "=="
       ]
      },
      {
       "output_type": "stream",
       "stream": "stderr",
       "text": [
        "=="
       ]
      },
      {
       "output_type": "stream",
       "stream": "stderr",
       "text": [
        "=="
       ]
      },
      {
       "output_type": "stream",
       "stream": "stderr",
       "text": [
        "=="
       ]
      },
      {
       "output_type": "stream",
       "stream": "stderr",
       "text": [
        "=="
       ]
      },
      {
       "output_type": "stream",
       "stream": "stderr",
       "text": [
        "=="
       ]
      },
      {
       "output_type": "stream",
       "stream": "stderr",
       "text": [
        "=="
       ]
      },
      {
       "output_type": "stream",
       "stream": "stderr",
       "text": [
        "=="
       ]
      },
      {
       "output_type": "stream",
       "stream": "stderr",
       "text": [
        "=="
       ]
      },
      {
       "output_type": "stream",
       "stream": "stderr",
       "text": [
        "=="
       ]
      },
      {
       "output_type": "stream",
       "stream": "stderr",
       "text": [
        "=="
       ]
      },
      {
       "output_type": "stream",
       "stream": "stderr",
       "text": [
        "=="
       ]
      },
      {
       "output_type": "stream",
       "stream": "stderr",
       "text": [
        "=="
       ]
      },
      {
       "output_type": "stream",
       "stream": "stderr",
       "text": [
        "\n",
        "Loading buffers (0 bytes)\n",
        "|0                           50%                         100%|\n",
        " ============================================================"
       ]
      },
      {
       "output_type": "stream",
       "stream": "stdout",
       "text": [
        "1 Setting up recording...\n",
        "1 Running simulation...\n",
        "timings: number of neurons: 1500\n",
        "timings: number of synapses: 45000.0\n"
       ]
      },
      {
       "output_type": "stream",
       "stream": "stderr",
       "text": [
        "\n"
       ]
      }
     ],
     "prompt_number": 44
    },
    {
     "cell_type": "code",
     "collapsed": false,
     "input": [
      "\n",
      "# === Print results to file ===\n",
      "\n",
      "import pylab\n",
      "\n",
      "exc_spikes = exc_cells.getSpikes(compatible_output=True)\n",
      "pylab.figure()\n",
      "pylab.plot([i[1] for i in exc_spikes],\n",
      "           [i[0] for i in exc_spikes], \".\", markersize=2)\n",
      "pylab.xlabel('Time/ms')\n",
      "pylab.ylabel('spikes')\n",
      "pylab.title('spikes')\n",
      "pylab.show()\n",
      "\n",
      "writeCPUTime = timer.diff()\n",
      "\n",
      "if node_id == 0:\n",
      "    print \"\\n--- Vogels-Abbott Network Simulation ---\"\n",
      "    print \"Nodes                  : %d\" % np\n",
      "    print \"Simulation type        : %s\" % benchmark\n",
      "    print \"Number of Neurons      : %d\" % n\n",
      "    print \"Number of Synapses     : %s\" % connections\n",
      "    print \"Excitatory conductance : %g nS\" % Gexc\n",
      "    print \"Inhibitory conductance : %g nS\" % Ginh\n",
      "    print \"Build time             : %g s\" % buildCPUTime\n",
      "    print \"Simulation time        : %g s\" % simCPUTime\n",
      "    print \"Writing time           : %g s\" % writeCPUTime\n",
      "\n",
      "\n",
      "# === Finished with simulator ===\n",
      "\n",
      "end()"
     ],
     "language": "python",
     "metadata": {},
     "outputs": [
      {
       "output_type": "stream",
       "stream": "stderr",
       "text": [
        "Getting spikes for Excitatory_Cells\n",
        "|0                           50%                         100%|\n",
        " "
       ]
      },
      {
       "output_type": "stream",
       "stream": "stderr",
       "text": [
        "=="
       ]
      },
      {
       "output_type": "stream",
       "stream": "stderr",
       "text": [
        "==="
       ]
      },
      {
       "output_type": "stream",
       "stream": "stderr",
       "text": [
        "=="
       ]
      },
      {
       "output_type": "stream",
       "stream": "stderr",
       "text": [
        "==="
       ]
      },
      {
       "output_type": "stream",
       "stream": "stderr",
       "text": [
        "=="
       ]
      },
      {
       "output_type": "stream",
       "stream": "stderr",
       "text": [
        "==="
       ]
      },
      {
       "output_type": "stream",
       "stream": "stderr",
       "text": [
        "=="
       ]
      },
      {
       "output_type": "stream",
       "stream": "stderr",
       "text": [
        "==="
       ]
      },
      {
       "output_type": "stream",
       "stream": "stderr",
       "text": [
        "=="
       ]
      },
      {
       "output_type": "stream",
       "stream": "stderr",
       "text": [
        "==="
       ]
      },
      {
       "output_type": "stream",
       "stream": "stderr",
       "text": [
        "=="
       ]
      },
      {
       "output_type": "stream",
       "stream": "stderr",
       "text": [
        "==="
       ]
      },
      {
       "output_type": "stream",
       "stream": "stderr",
       "text": [
        "=="
       ]
      },
      {
       "output_type": "stream",
       "stream": "stderr",
       "text": [
        "==="
       ]
      },
      {
       "output_type": "stream",
       "stream": "stderr",
       "text": [
        "=="
       ]
      },
      {
       "output_type": "stream",
       "stream": "stderr",
       "text": [
        "==="
       ]
      },
      {
       "output_type": "stream",
       "stream": "stderr",
       "text": [
        "=="
       ]
      },
      {
       "output_type": "stream",
       "stream": "stderr",
       "text": [
        "==="
       ]
      },
      {
       "output_type": "stream",
       "stream": "stderr",
       "text": [
        "=="
       ]
      },
      {
       "output_type": "stream",
       "stream": "stderr",
       "text": [
        "==="
       ]
      },
      {
       "output_type": "stream",
       "stream": "stderr",
       "text": [
        "=="
       ]
      },
      {
       "output_type": "stream",
       "stream": "stderr",
       "text": [
        "==="
       ]
      },
      {
       "output_type": "stream",
       "stream": "stderr",
       "text": [
        "=="
       ]
      },
      {
       "output_type": "stream",
       "stream": "stderr",
       "text": [
        "==="
       ]
      },
      {
       "output_type": "stream",
       "stream": "stderr",
       "text": [
        "\n",
        "Getting provenance data from partitioned graph"
       ]
      },
      {
       "output_type": "stream",
       "stream": "stderr",
       "text": [
        "\n",
        "|0                           50%                         100%|\n",
        " "
       ]
      },
      {
       "output_type": "stream",
       "stream": "stderr",
       "text": [
        "="
       ]
      },
      {
       "output_type": "stream",
       "stream": "stderr",
       "text": [
        "="
       ]
      },
      {
       "output_type": "stream",
       "stream": "stderr",
       "text": [
        "="
       ]
      },
      {
       "output_type": "stream",
       "stream": "stderr",
       "text": [
        "="
       ]
      },
      {
       "output_type": "stream",
       "stream": "stderr",
       "text": [
        "="
       ]
      },
      {
       "output_type": "stream",
       "stream": "stderr",
       "text": [
        "="
       ]
      },
      {
       "output_type": "stream",
       "stream": "stderr",
       "text": [
        "="
       ]
      },
      {
       "output_type": "stream",
       "stream": "stderr",
       "text": [
        "="
       ]
      },
      {
       "output_type": "stream",
       "stream": "stderr",
       "text": [
        "="
       ]
      },
      {
       "output_type": "stream",
       "stream": "stderr",
       "text": [
        "="
       ]
      },
      {
       "output_type": "stream",
       "stream": "stderr",
       "text": [
        "="
       ]
      },
      {
       "output_type": "stream",
       "stream": "stderr",
       "text": [
        "="
       ]
      },
      {
       "output_type": "stream",
       "stream": "stderr",
       "text": [
        "="
       ]
      },
      {
       "output_type": "stream",
       "stream": "stderr",
       "text": [
        "="
       ]
      },
      {
       "output_type": "stream",
       "stream": "stderr",
       "text": [
        "="
       ]
      },
      {
       "output_type": "stream",
       "stream": "stderr",
       "text": [
        "="
       ]
      },
      {
       "output_type": "stream",
       "stream": "stderr",
       "text": [
        "="
       ]
      },
      {
       "output_type": "stream",
       "stream": "stderr",
       "text": [
        "="
       ]
      },
      {
       "output_type": "stream",
       "stream": "stderr",
       "text": [
        "="
       ]
      },
      {
       "output_type": "stream",
       "stream": "stderr",
       "text": [
        "="
       ]
      },
      {
       "output_type": "stream",
       "stream": "stderr",
       "text": [
        "="
       ]
      },
      {
       "output_type": "stream",
       "stream": "stderr",
       "text": [
        "="
       ]
      },
      {
       "output_type": "stream",
       "stream": "stderr",
       "text": [
        "="
       ]
      },
      {
       "output_type": "stream",
       "stream": "stderr",
       "text": [
        "="
       ]
      },
      {
       "output_type": "stream",
       "stream": "stderr",
       "text": [
        "="
       ]
      },
      {
       "output_type": "stream",
       "stream": "stderr",
       "text": [
        "="
       ]
      },
      {
       "output_type": "stream",
       "stream": "stderr",
       "text": [
        "="
       ]
      },
      {
       "output_type": "stream",
       "stream": "stderr",
       "text": [
        "="
       ]
      },
      {
       "output_type": "stream",
       "stream": "stderr",
       "text": [
        "="
       ]
      },
      {
       "output_type": "stream",
       "stream": "stderr",
       "text": [
        "="
       ]
      },
      {
       "output_type": "stream",
       "stream": "stderr",
       "text": [
        "="
       ]
      },
      {
       "output_type": "stream",
       "stream": "stderr",
       "text": [
        "="
       ]
      },
      {
       "output_type": "stream",
       "stream": "stderr",
       "text": [
        "="
       ]
      },
      {
       "output_type": "stream",
       "stream": "stderr",
       "text": [
        "="
       ]
      },
      {
       "output_type": "stream",
       "stream": "stderr",
       "text": [
        "="
       ]
      },
      {
       "output_type": "stream",
       "stream": "stderr",
       "text": [
        "="
       ]
      },
      {
       "output_type": "stream",
       "stream": "stderr",
       "text": [
        "="
       ]
      },
      {
       "output_type": "stream",
       "stream": "stderr",
       "text": [
        "="
       ]
      },
      {
       "output_type": "stream",
       "stream": "stderr",
       "text": [
        "="
       ]
      },
      {
       "output_type": "stream",
       "stream": "stderr",
       "text": [
        "="
       ]
      },
      {
       "output_type": "stream",
       "stream": "stderr",
       "text": [
        "="
       ]
      },
      {
       "output_type": "stream",
       "stream": "stderr",
       "text": [
        "="
       ]
      },
      {
       "output_type": "stream",
       "stream": "stderr",
       "text": [
        "="
       ]
      },
      {
       "output_type": "stream",
       "stream": "stderr",
       "text": [
        "="
       ]
      },
      {
       "output_type": "stream",
       "stream": "stderr",
       "text": [
        "="
       ]
      },
      {
       "output_type": "stream",
       "stream": "stderr",
       "text": [
        "="
       ]
      },
      {
       "output_type": "stream",
       "stream": "stderr",
       "text": [
        "="
       ]
      },
      {
       "output_type": "stream",
       "stream": "stderr",
       "text": [
        "="
       ]
      },
      {
       "output_type": "stream",
       "stream": "stderr",
       "text": [
        "="
       ]
      },
      {
       "output_type": "stream",
       "stream": "stderr",
       "text": [
        "="
       ]
      },
      {
       "output_type": "stream",
       "stream": "stderr",
       "text": [
        "="
       ]
      },
      {
       "output_type": "stream",
       "stream": "stderr",
       "text": [
        "="
       ]
      },
      {
       "output_type": "stream",
       "stream": "stderr",
       "text": [
        "="
       ]
      },
      {
       "output_type": "stream",
       "stream": "stderr",
       "text": [
        "="
       ]
      },
      {
       "output_type": "stream",
       "stream": "stderr",
       "text": [
        "="
       ]
      },
      {
       "output_type": "stream",
       "stream": "stderr",
       "text": [
        "="
       ]
      },
      {
       "output_type": "stream",
       "stream": "stderr",
       "text": [
        "="
       ]
      },
      {
       "output_type": "stream",
       "stream": "stderr",
       "text": [
        "="
       ]
      },
      {
       "output_type": "stream",
       "stream": "stderr",
       "text": [
        "="
       ]
      },
      {
       "output_type": "stream",
       "stream": "stderr",
       "text": [
        "="
       ]
      },
      {
       "output_type": "stream",
       "stream": "stderr",
       "text": [
        "\n",
        "Getting provenance data from partitionable graph\n",
        "|0                           50%                         100%|\n",
        " "
       ]
      },
      {
       "output_type": "stream",
       "stream": "stderr",
       "text": [
        "======"
       ]
      },
      {
       "output_type": "stream",
       "stream": "stderr",
       "text": [
        "======="
       ]
      },
      {
       "output_type": "stream",
       "stream": "stderr",
       "text": [
        "======="
       ]
      },
      {
       "output_type": "stream",
       "stream": "stderr",
       "text": [
        "========================================"
       ]
      },
      {
       "output_type": "stream",
       "stream": "stderr",
       "text": [
        "\n",
        "Getting provenance data\n",
        "|0                           50%                         100%|\n",
        " "
       ]
      },
      {
       "output_type": "stream",
       "stream": "stderr",
       "text": [
        "="
       ]
      },
      {
       "output_type": "stream",
       "stream": "stderr",
       "text": [
        "=="
       ]
      },
      {
       "output_type": "stream",
       "stream": "stderr",
       "text": [
        "=="
       ]
      },
      {
       "output_type": "stream",
       "stream": "stderr",
       "text": [
        "=="
       ]
      },
      {
       "output_type": "stream",
       "stream": "stderr",
       "text": [
        "=="
       ]
      },
      {
       "output_type": "stream",
       "stream": "stderr",
       "text": [
        "=="
       ]
      },
      {
       "output_type": "stream",
       "stream": "stderr",
       "text": [
        "=="
       ]
      },
      {
       "output_type": "stream",
       "stream": "stderr",
       "text": [
        "=="
       ]
      },
      {
       "output_type": "stream",
       "stream": "stderr",
       "text": [
        "=="
       ]
      },
      {
       "output_type": "stream",
       "stream": "stderr",
       "text": [
        "=="
       ]
      },
      {
       "output_type": "stream",
       "stream": "stderr",
       "text": [
        "=="
       ]
      },
      {
       "output_type": "stream",
       "stream": "stderr",
       "text": [
        "=="
       ]
      },
      {
       "output_type": "stream",
       "stream": "stderr",
       "text": [
        "=="
       ]
      },
      {
       "output_type": "stream",
       "stream": "stderr",
       "text": [
        "=="
       ]
      },
      {
       "output_type": "stream",
       "stream": "stderr",
       "text": [
        "=="
       ]
      },
      {
       "output_type": "stream",
       "stream": "stderr",
       "text": [
        "="
       ]
      },
      {
       "output_type": "stream",
       "stream": "stderr",
       "text": [
        "=="
       ]
      },
      {
       "output_type": "stream",
       "stream": "stderr",
       "text": [
        "=="
       ]
      },
      {
       "output_type": "stream",
       "stream": "stderr",
       "text": [
        "=="
       ]
      },
      {
       "output_type": "stream",
       "stream": "stderr",
       "text": [
        "=="
       ]
      },
      {
       "output_type": "stream",
       "stream": "stderr",
       "text": [
        "=="
       ]
      },
      {
       "output_type": "stream",
       "stream": "stderr",
       "text": [
        "=="
       ]
      },
      {
       "output_type": "stream",
       "stream": "stderr",
       "text": [
        "=="
       ]
      },
      {
       "output_type": "stream",
       "stream": "stderr",
       "text": [
        "=="
       ]
      },
      {
       "output_type": "stream",
       "stream": "stderr",
       "text": [
        "=="
       ]
      },
      {
       "output_type": "stream",
       "stream": "stderr",
       "text": [
        "=="
       ]
      },
      {
       "output_type": "stream",
       "stream": "stderr",
       "text": [
        "=="
       ]
      },
      {
       "output_type": "stream",
       "stream": "stderr",
       "text": [
        "=="
       ]
      },
      {
       "output_type": "stream",
       "stream": "stderr",
       "text": [
        "=="
       ]
      },
      {
       "output_type": "stream",
       "stream": "stderr",
       "text": [
        "=="
       ]
      },
      {
       "output_type": "stream",
       "stream": "stderr",
       "text": [
        "=="
       ]
      },
      {
       "output_type": "stream",
       "stream": "stderr",
       "text": [
        "\n",
        "Getting Router Provenance\n",
        "|0                           50%                         100%|\n",
        " "
       ]
      },
      {
       "output_type": "stream",
       "stream": "stderr",
       "text": [
        "==============="
       ]
      },
      {
       "output_type": "stream",
       "stream": "stderr",
       "text": [
        "==============="
       ]
      },
      {
       "output_type": "stream",
       "stream": "stderr",
       "text": [
        "=============================="
       ]
      },
      {
       "output_type": "stream",
       "stream": "stderr",
       "text": [
        "\n"
       ]
      }
     ],
     "prompt_number": 45
    },
    {
     "cell_type": "code",
     "collapsed": false,
     "input": [],
     "language": "python",
     "metadata": {},
     "outputs": []
    }
   ],
   "metadata": {}
  }
 ]
}