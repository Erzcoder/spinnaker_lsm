{
 "cells": [
  {
   "cell_type": "code",
   "execution_count": null,
   "metadata": {
    "collapsed": true
   },
   "outputs": [],
   "source": [
    "# coding: utf-8\n",
    "\n",
    "import socket\n",
    "\n",
    "simulator_name = 'spiNNaker'\n",
    "\n",
    "#exec(\"from pyNN.%s import *\" % simulator_name)\n",
    "from spynnaker.pyNN import *\n",
    "from pyNN.random import NumpyRNG, RandomDistribution\n",
    "from pyNN.utility import Timer\n",
    "import numpy as np\n",
    "\n",
    "timer = Timer()"
   ]
  }
 ],
 "metadata": {
  "kernelspec": {
   "display_name": "spinnaker_virtualenv",
   "language": "python",
   "name": "spinnaker_virtualenv"
  },
  "language_info": {
   "codemirror_mode": {
    "name": "ipython",
    "version": 2
   },
   "file_extension": ".py",
   "mimetype": "text/x-python",
   "name": "python",
   "nbconvert_exporter": "python",
   "pygments_lexer": "ipython2",
   "version": "2.7.12"
  }
 },
 "nbformat": 4,
 "nbformat_minor": 2
}
